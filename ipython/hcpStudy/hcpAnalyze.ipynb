{
 "cells": [
  {
   "cell_type": "code",
   "execution_count": 27,
   "metadata": {
    "code_folding": []
   },
   "outputs": [],
   "source": [
    "# This is the import cell\n",
    "import sys\n",
    "import os\n",
    "import numpy as np\n",
    "import pandas as pd\n",
    "import matplotlib as mpl\n",
    "import matplotlib.pyplot as plt\n",
    "first = True\n",
    "pd.set_option('display.max_columns', None)\n",
    "pd.set_option(\"display.max_rows\", 10)"
   ]
  },
  {
   "cell_type": "code",
   "execution_count": 2,
   "metadata": {
    "code_folding": [
     0
    ]
   },
   "outputs": [
    {
     "name": "stdout",
     "output_type": "stream",
     "text": [
      "['pe200.0_lattice0.95.txt', 'active_pe300.0_lattice1.05.txt', 'active_pe100.0_lattice0.85.txt', 'pe300.0_lattice0.9.txt', 'active_pe300.0_lattice1.0.txt', 'pe400.0_lattice0.85.txt', 'pe50.0_lattice0.95.txt', 'pe300.0_lattice0.95.txt', 'active_pe200.0_lattice1.05.txt', 'pe300.0_lattice0.8.txt', 'pe400.0_lattice1.0.txt', 'pe500.0_lattice0.85.txt', 'active_pe400.0_lattice0.9.txt', 'active_pe500.0_lattice0.95.txt', 'active_pe300.0_lattice0.85.txt', 'pe350.0_lattice0.9.txt', 'active_pe100.0_lattice1.05.txt', 'active_pe350.0_lattice1.0.txt', 'pe350.0_lattice0.8.txt', 'active_pe400.0_lattice0.95.txt', 'pe100.0_lattice0.95.txt', 'pe450.0_lattice1.0.txt', 'active_pe450.0_lattice0.9.txt', 'active_pe200.0_lattice0.85.txt', 'active_pe200.0_lattice0.95.txt', 'pe100.0_lattice0.85.txt', 'active_pe400.0_lattice0.85.txt', 'active_pe300.0_lattice0.95.txt', 'active_pe500.0_lattice0.85.txt', 'active_pe400.0_lattice1.05.txt', 'pe500.0_lattice0.95.txt', 'pe300.0_lattice0.85.txt', 'pe50.0_lattice0.85.txt', 'active_pe500.0_lattice1.05.txt', 'pe400.0_lattice0.95.txt', 'active_pe100.0_lattice0.95.txt', 'pe200.0_lattice0.85.txt', 'active_pe100.0_lattice0.9.txt', 'pe100.0_lattice1.0.txt', 'active_pe250.0_lattice1.05.txt', 'pe350.0_lattice0.95.txt', 'active_pe50.0_lattice1.0.txt', 'pe450.0_lattice0.85.txt', 'active_pe150.0_lattice0.85.txt', 'active_pe350.0_lattice1.05.txt', 'pe250.0_lattice0.95.txt', 'active_pe250.0_lattice0.85.txt', 'active_pe150.0_lattice0.9.txt', 'pe150.0_lattice1.0.txt', 'pe150.0_lattice0.95.txt', 'pe50.0_lattice1.0.txt', 'active_pe450.0_lattice0.95.txt', 'active_pe150.0_lattice1.05.txt', 'active_pe350.0_lattice0.85.txt', 'active_pe350.0_lattice0.95.txt', 'active_pe250.0_lattice0.9.txt', 'pe250.0_lattice1.0.txt', 'active_pe450.0_lattice0.85.txt', 'pe150.0_lattice0.85.txt', 'active_pe250.0_lattice0.95.txt', 'active_pe500.0_lattice1.0.txt', 'pe250.0_lattice0.85.txt', 'pe500.0_lattice0.9.txt', 'active_pe150.0_lattice0.95.txt', 'pe450.0_lattice0.95.txt', 'active_pe200.0_lattice0.9.txt', 'pe350.0_lattice0.85.txt', 'pe200.0_lattice1.0.txt', 'pe500.0_lattice0.8.txt', 'active_pe450.0_lattice1.05.txt', 'pe350.0_lattice1.0.txt', 'active_pe350.0_lattice0.9.txt', 'pe450.0_lattice0.8.txt', 'pe450.0_lattice0.9.txt', 'active_pe450.0_lattice1.0.txt', 'pe150.0_lattice0.75.txt', 'pe250.0_lattice0.75.txt', 'pe300.0_lattice1.0.txt', 'active_pe300.0_lattice0.9.txt', 'pe400.0_lattice0.8.txt', 'pe400.0_lattice0.9.txt', 'active_pe400.0_lattice1.0.txt', 'pe350.0_lattice0.75.txt', 'active_pe50.0_lattice0.95.txt', 'active_pe50.0_lattice0.85.txt', 'pe450.0_lattice0.75.txt', 'active_pe50.0_lattice1.05.txt', 'pe100.0_lattice0.75.txt', 'active_pe150.0_lattice1.0.txt', 'pe50.0_lattice0.9.txt', 'pe150.0_lattice0.9.txt', 'pe150.0_lattice0.8.txt', 'pe50.0_lattice0.8.txt', 'active_pe50.0_lattice0.9.txt', 'pe300.0_lattice0.75.txt', 'pe50.0_lattice0.75.txt', 'active_pe100.0_lattice1.0.txt', 'pe100.0_lattice0.9.txt', 'pe100.0_lattice0.8.txt', 'pe200.0_lattice0.75.txt', 'pe200.0_lattice0.8.txt', 'pe400.0_lattice0.75.txt', 'active_pe500.0_lattice0.9.txt', 'pe500.0_lattice1.0.txt', 'active_pe200.0_lattice1.0.txt', 'pe200.0_lattice0.9.txt', 'pe500.0_lattice0.75.txt', 'pe250.0_lattice0.8.txt', 'active_pe250.0_lattice1.0.txt', 'pe250.0_lattice0.9.txt']\n"
     ]
    }
   ],
   "source": [
    "# Get the current path\n",
    "if first:\n",
    "    parent = os.getcwd()\n",
    "os.chdir(parent)\n",
    "\n",
    "# Grab file names from data folder\n",
    "data = os.listdir('data')\n",
    "try:\n",
    "    data.remove('.DS_Store')\n",
    "except:\n",
    "    pass\n",
    "print(data)"
   ]
  },
  {
   "cell_type": "code",
   "execution_count": 3,
   "metadata": {
    "code_folding": []
   },
   "outputs": [],
   "source": [
    "# Some functions to get the relevant data from the filenames\n",
    "def checkFile(fname, string):\n",
    "    for i in xrange(len(fname)):\n",
    "        if fname[i] == string[0]:\n",
    "#             print\"{} matches {}\".format(fname[i], string[0])\n",
    "            for j in xrange(1, len(string)):\n",
    "                if fname[i + j] == string[j]:\n",
    "#                     print\"{} matches {}\".format(fname[i+j], string[j])\n",
    "                    if j == (len(string) - 1):\n",
    "#                         print\"Final match!\"\n",
    "                        return True\n",
    "                else:\n",
    "                    break\n",
    "    return False\n",
    "    \n",
    "def txtValue(fname, string):\n",
    "    out = \"\"\n",
    "    index = 0\n",
    "    for i in xrange(len(fname)):\n",
    "        if fname[i] == string[0]:\n",
    "            for j in xrange(1, len(string)):\n",
    "                if fname[i + j] == string[j]:\n",
    "                    if j == (len(string) - 1):\n",
    "                        # Last index of search string\n",
    "                        index = i + j\n",
    "                else:\n",
    "                    break\n",
    "                        \n",
    "    # First index of value\n",
    "    index += 1\n",
    "    mybool = True\n",
    "    while mybool:\n",
    "        if fname[index].isdigit():\n",
    "            out = out + fname[index]\n",
    "            index += 1\n",
    "        elif fname[index] == \".\":    \n",
    "            if fname[index+1].isdigit():\n",
    "                out = out + fname[index]\n",
    "                index += 1\n",
    "            else:\n",
    "                mybool = False\n",
    "        else:\n",
    "            mybool = False\n",
    "    return float(out)\n",
    "\n",
    "# Sorting functions\n",
    "def multiSort(arr1, arr2, arr3):\n",
    "    \"\"\"Sort an array the slow (but certain) way, returns original indices in sorted order\"\"\"\n",
    "    # Doing this for PeR, PeS, xS in this case\n",
    "    cpy1 = np.copy(arr1)\n",
    "    cpy2 = np.copy(arr2)\n",
    "    cpy3 = np.copy(arr3)\n",
    "    ind = np.arange(0, len(arr1))\n",
    "    for i in xrange(len(cpy1)):\n",
    "        for j in xrange(len(cpy1)):\n",
    "            # Sort by first variable\n",
    "            if cpy1[i] > cpy1[j] and i < j:\n",
    "                # Swap copy array values\n",
    "                cpy1[i], cpy1[j] = cpy1[j], cpy1[i]\n",
    "                cpy2[i], cpy2[j] = cpy2[j], cpy2[i]\n",
    "                cpy3[i], cpy3[j] = cpy3[j], cpy3[i]\n",
    "                # Swap the corresponding indices\n",
    "                ind[i], ind[j] = ind[j], ind[i]\n",
    "                \n",
    "            # If first variable is equal, resort to second variable\n",
    "            elif cpy1[i] == cpy1[j] and cpy2[i] > cpy2[j] and i < j:\n",
    "                # Swap copy array values\n",
    "                cpy1[i], cpy1[j] = cpy1[j], cpy1[i]\n",
    "                cpy2[i], cpy2[j] = cpy2[j], cpy2[i]\n",
    "                cpy3[i], cpy3[j] = cpy3[j], cpy3[i]\n",
    "                # Swap the corresponding indices\n",
    "                ind[i], ind[j] = ind[j], ind[i]\n",
    "                \n",
    "            elif cpy1[i] == cpy1[j] and cpy2[i] == cpy2[j] and cpy3[i] > cpy3[j] and i < j:\n",
    "                # Swap copy array values\n",
    "                cpy1[i], cpy1[j] = cpy1[j], cpy1[i]\n",
    "                cpy2[i], cpy2[j] = cpy2[j], cpy2[i]\n",
    "                cpy3[i], cpy3[j] = cpy3[j], cpy3[i]\n",
    "                # Swap the corresponding indices\n",
    "                ind[i], ind[j] = ind[j], ind[i]      \n",
    "    return ind\n",
    "\n",
    "def indSort(arr1, arr2):\n",
    "    \"\"\"Take sorted index array, use to sort array\"\"\"\n",
    "    # arr1 is array to sort\n",
    "    # arr2 is index array\n",
    "    cpy = np.copy(arr1)\n",
    "    for i in xrange(len(arr1)):\n",
    "        arr1[i] = cpy[arr2[i]]"
   ]
  },
  {
   "cell_type": "code",
   "execution_count": 4,
   "metadata": {},
   "outputs": [
    {
     "name": "stdout",
     "output_type": "stream",
     "text": [
      "pe200.0_lattice0.95.txt\n",
      "False\n"
     ]
    }
   ],
   "source": [
    "print(data[0])\n",
    "print(checkFile(data[0], \"active\"))"
   ]
  },
  {
   "cell_type": "code",
   "execution_count": 5,
   "metadata": {
    "code_folding": []
   },
   "outputs": [
    {
     "name": "stdout",
     "output_type": "stream",
     "text": [
      "Sorting... \n",
      "Sorted textfiles:\n",
      "pe50.0_lattice0.75.txt\n",
      "pe50.0_lattice0.8.txt\n",
      "pe50.0_lattice0.85.txt\n",
      "pe50.0_lattice0.9.txt\n",
      "pe50.0_lattice0.95.txt\n",
      "pe50.0_lattice1.0.txt\n",
      "pe100.0_lattice0.75.txt\n",
      "pe100.0_lattice0.8.txt\n",
      "pe100.0_lattice0.85.txt\n",
      "pe100.0_lattice0.9.txt\n",
      "pe100.0_lattice0.95.txt\n",
      "pe100.0_lattice1.0.txt\n",
      "pe150.0_lattice0.75.txt\n",
      "pe150.0_lattice0.8.txt\n",
      "pe150.0_lattice0.85.txt\n",
      "pe150.0_lattice0.9.txt\n",
      "pe150.0_lattice0.95.txt\n",
      "pe150.0_lattice1.0.txt\n",
      "pe200.0_lattice0.75.txt\n",
      "pe200.0_lattice0.8.txt\n",
      "pe200.0_lattice0.85.txt\n",
      "pe200.0_lattice0.9.txt\n",
      "pe200.0_lattice0.95.txt\n",
      "pe200.0_lattice1.0.txt\n",
      "pe250.0_lattice0.75.txt\n",
      "pe250.0_lattice0.8.txt\n",
      "pe250.0_lattice0.85.txt\n",
      "pe250.0_lattice0.9.txt\n",
      "pe250.0_lattice0.95.txt\n",
      "pe250.0_lattice1.0.txt\n",
      "pe300.0_lattice0.75.txt\n",
      "pe300.0_lattice0.8.txt\n",
      "pe300.0_lattice0.85.txt\n",
      "pe300.0_lattice0.9.txt\n",
      "pe300.0_lattice0.95.txt\n",
      "pe300.0_lattice1.0.txt\n",
      "pe350.0_lattice0.75.txt\n",
      "pe350.0_lattice0.8.txt\n",
      "pe350.0_lattice0.85.txt\n",
      "pe350.0_lattice0.9.txt\n",
      "pe350.0_lattice0.95.txt\n",
      "pe350.0_lattice1.0.txt\n",
      "pe400.0_lattice0.75.txt\n",
      "pe400.0_lattice0.8.txt\n",
      "pe400.0_lattice0.85.txt\n",
      "pe400.0_lattice0.9.txt\n",
      "pe400.0_lattice0.95.txt\n",
      "pe400.0_lattice1.0.txt\n",
      "pe450.0_lattice0.75.txt\n",
      "pe450.0_lattice0.8.txt\n",
      "pe450.0_lattice0.85.txt\n",
      "pe450.0_lattice0.9.txt\n",
      "pe450.0_lattice0.95.txt\n",
      "pe450.0_lattice1.0.txt\n",
      "pe500.0_lattice0.75.txt\n",
      "pe500.0_lattice0.8.txt\n",
      "pe500.0_lattice0.85.txt\n",
      "pe500.0_lattice0.9.txt\n",
      "pe500.0_lattice0.95.txt\n",
      "pe500.0_lattice1.0.txt\n",
      "active_pe50.0_lattice0.85.txt\n",
      "active_pe50.0_lattice0.9.txt\n",
      "active_pe50.0_lattice0.95.txt\n",
      "active_pe50.0_lattice1.0.txt\n",
      "active_pe50.0_lattice1.05.txt\n",
      "active_pe100.0_lattice0.85.txt\n",
      "active_pe100.0_lattice0.9.txt\n",
      "active_pe100.0_lattice0.95.txt\n",
      "active_pe100.0_lattice1.0.txt\n",
      "active_pe100.0_lattice1.05.txt\n",
      "active_pe150.0_lattice0.85.txt\n",
      "active_pe150.0_lattice0.9.txt\n",
      "active_pe150.0_lattice0.95.txt\n",
      "active_pe150.0_lattice1.0.txt\n",
      "active_pe150.0_lattice1.05.txt\n",
      "active_pe200.0_lattice0.85.txt\n",
      "active_pe200.0_lattice0.9.txt\n",
      "active_pe200.0_lattice0.95.txt\n",
      "active_pe200.0_lattice1.0.txt\n",
      "active_pe200.0_lattice1.05.txt\n",
      "active_pe250.0_lattice0.85.txt\n",
      "active_pe250.0_lattice0.9.txt\n",
      "active_pe250.0_lattice0.95.txt\n",
      "active_pe250.0_lattice1.0.txt\n",
      "active_pe250.0_lattice1.05.txt\n",
      "active_pe300.0_lattice0.85.txt\n",
      "active_pe300.0_lattice0.9.txt\n",
      "active_pe300.0_lattice0.95.txt\n",
      "active_pe300.0_lattice1.0.txt\n",
      "active_pe300.0_lattice1.05.txt\n",
      "active_pe350.0_lattice0.85.txt\n",
      "active_pe350.0_lattice0.9.txt\n",
      "active_pe350.0_lattice0.95.txt\n",
      "active_pe350.0_lattice1.0.txt\n",
      "active_pe350.0_lattice1.05.txt\n",
      "active_pe400.0_lattice0.85.txt\n",
      "active_pe400.0_lattice0.9.txt\n",
      "active_pe400.0_lattice0.95.txt\n",
      "active_pe400.0_lattice1.0.txt\n",
      "active_pe400.0_lattice1.05.txt\n",
      "active_pe450.0_lattice0.85.txt\n",
      "active_pe450.0_lattice0.9.txt\n",
      "active_pe450.0_lattice0.95.txt\n",
      "active_pe450.0_lattice1.0.txt\n",
      "active_pe450.0_lattice1.05.txt\n",
      "active_pe500.0_lattice0.85.txt\n",
      "active_pe500.0_lattice0.9.txt\n",
      "active_pe500.0_lattice0.95.txt\n",
      "active_pe500.0_lattice1.0.txt\n",
      "active_pe500.0_lattice1.05.txt\n"
     ]
    },
    {
     "data": {
      "text/html": [
       "<div>\n",
       "<style scoped>\n",
       "    .dataframe tbody tr th:only-of-type {\n",
       "        vertical-align: middle;\n",
       "    }\n",
       "\n",
       "    .dataframe tbody tr th {\n",
       "        vertical-align: top;\n",
       "    }\n",
       "\n",
       "    .dataframe thead th {\n",
       "        text-align: right;\n",
       "    }\n",
       "</style>\n",
       "<table border=\"1\" class=\"dataframe\">\n",
       "  <thead>\n",
       "    <tr style=\"text-align: right;\">\n",
       "      <th></th>\n",
       "      <th>Activity</th>\n",
       "      <th>Lattice</th>\n",
       "      <th>Infiltrate</th>\n",
       "      <th>Velocity</th>\n",
       "    </tr>\n",
       "  </thead>\n",
       "  <tbody>\n",
       "    <tr>\n",
       "      <th>0</th>\n",
       "      <td>50.0</td>\n",
       "      <td>0.75</td>\n",
       "      <td>n</td>\n",
       "      <td>0.0</td>\n",
       "    </tr>\n",
       "  </tbody>\n",
       "</table>\n",
       "</div>"
      ],
      "text/plain": [
       "   Activity  Lattice Infiltrate  Velocity\n",
       "0      50.0     0.75          n       0.0"
      ]
     },
     "metadata": {},
     "output_type": "display_data"
    }
   ],
   "source": [
    "# Grab parameters, sort them\n",
    "actList = []\n",
    "peList = []\n",
    "latList = []\n",
    "\n",
    "for i in xrange(len(data)):\n",
    "    if checkFile(data[i], \"active\"):\n",
    "        actList.append(1)\n",
    "    else:\n",
    "        actList.append(0)\n",
    "        \n",
    "    if checkFile(data[i], \"pe\"):\n",
    "        peList.append(txtValue(data[i], \"pe\"))\n",
    "    else:\n",
    "        peList.append(0)\n",
    "    \n",
    "    if checkFile(data[i], \"lattice\"):\n",
    "        latList.append(txtValue(data[i], \"lattice\"))\n",
    "    else:\n",
    "        latList.append(0)\n",
    "\n",
    "# # Take a look at your lists\n",
    "# print(actList)\n",
    "# print(peList)\n",
    "# print(latList)        \n",
    "\n",
    "# Sort the arrays\n",
    "if len(peList) > 1:\n",
    "    # Sort them!\n",
    "    print(\"Sorting... \")\n",
    "    indArr = multiSort(actList, peList, latList)\n",
    "    indSort(data, indArr)\n",
    "    indSort(peList, indArr)\n",
    "    indSort(latList, indArr)\n",
    "    indSort(actList, indArr)\n",
    "\n",
    "# Print the sorted array\n",
    "print(\"Sorted textfiles:\")\n",
    "for i in data:\n",
    "    print(i)\n",
    "    \n",
    "# Now that the data is sorted, read it into a dataframe\n",
    "all_data = []\n",
    "os.chdir('data')\n",
    "for i in xrange(len(data)):\n",
    "    df = pd.read_csv(data[i], sep='\\s+', header=0)\n",
    "    all_data.append(df)\n",
    "os.chdir(parent)\n",
    "\n",
    "# This is how you access the data at different levels\n",
    "display(all_data[0])\n",
    "# print(all_data[0]['Timestep'])\n",
    "# print(all_data[0]['Timestep'][0])"
   ]
  },
  {
   "cell_type": "code",
   "execution_count": 6,
   "metadata": {},
   "outputs": [
    {
     "data": {
      "image/png": "[encoded data removed]",
      "text/plain": [
       "<Figure size 576x288 with 2 Axes>"
      ]
     },
     "metadata": {
      "needs_background": "light"
     },
     "output_type": "display_data"
    }
   ],
   "source": [
    "# Plot as filled or unfilled points\n",
    "fig, ax = plt.subplots(1, 2, figsize=(8, 4), sharey=True)\n",
    "for i in xrange(len(all_data)):\n",
    "    # If active...\n",
    "    if actList[i]:\n",
    "        if all_data[i]['Infiltrate'][0] == 'y':\n",
    "            ax[0].scatter(peList[i], latList[i], facecolors='k', edgecolors='k')\n",
    "        else:\n",
    "            ax[0].scatter(peList[i], latList[i], facecolors='w', edgecolors='k')\n",
    "    # Else ballistic\n",
    "    else:\n",
    "        if all_data[i]['Infiltrate'][0] == 'y':\n",
    "            ax[1].scatter(peList[i], latList[i], facecolors='k', edgecolors='k')\n",
    "        else:\n",
    "            ax[1].scatter(peList[i], latList[i], facecolors='w', edgecolors='k')\n",
    "\n",
    "ax[0].set_ylim(0.8, 1.05)\n",
    "ax[1].set_ylim(0.8, 1.05)\n",
    "ax[0].set_xlabel(r'Activity $(Pe)$')\n",
    "ax[1].set_xlabel(r'Activity $(Pe)$')\n",
    "ax[0].set_ylabel(r'Lattice spacing $(a)$')\n",
    "ax[0].set_title('Active particles')\n",
    "ax[1].set_title('Ballistic particles')\n",
    "plt.subplots_adjust(wspace=0.1)\n",
    "plt.show()"
   ]
  },
  {
   "cell_type": "code",
   "execution_count": 11,
   "metadata": {},
   "outputs": [
    {
     "data": {
      "image/png": "[encoded data removed]",
      "text/plain": [
       "<Figure size 576x288 with 2 Axes>"
      ]
     },
     "metadata": {
      "needs_background": "light"
     },
     "output_type": "display_data"
    }
   ],
   "source": [
    "# Get maximum velocity\n",
    "vel = []\n",
    "for i in xrange(len(all_data)):\n",
    "    vel.append(all_data[i]['Velocity'][0])\n",
    "maxV = max(vel)\n",
    "\n",
    "# Now let's plot the velocity as a heatmap?\n",
    "fig, ax = plt.subplots(1, 2, figsize=(8, 4), sharey=True)\n",
    "for i in xrange(len(all_data)):\n",
    "    # If active...\n",
    "    if actList[i]:\n",
    "        if all_data[i]['Infiltrate'][0] == 'y':\n",
    "            ax[0].scatter(peList[i], latList[i], c=plt.cm.jet((vel[i])/maxV))\n",
    "        else:\n",
    "            ax[0].scatter(peList[i], latList[i], c=plt.cm.jet((vel[i])/maxV))\n",
    "    # Else ballistic\n",
    "    else:\n",
    "        if all_data[i]['Infiltrate'][0] == 'y':\n",
    "            ax[1].scatter(peList[i], latList[i], c=plt.cm.jet((vel[i])/maxV))\n",
    "        else:\n",
    "            ax[1].scatter(peList[i], latList[i], c=plt.cm.jet((vel[i])/maxV))\n",
    "\n",
    "ax[0].set_ylim(0.7, 1.1)\n",
    "ax[1].set_ylim(0.7, 1.1)\n",
    "ax[0].set_xlabel(r'Activity $(Pe)$')\n",
    "ax[1].set_xlabel(r'Activity $(Pe)$')\n",
    "ax[0].set_ylabel(r'Lattice spacing $(a)$')\n",
    "ax[0].set_title('Active particles')\n",
    "ax[1].set_title('Ballistic particles')\n",
    "plt.subplots_adjust(wspace=0.1)\n",
    "plt.show()"
   ]
  },
  {
   "cell_type": "code",
   "execution_count": 40,
   "metadata": {},
   "outputs": [
    {
     "data": {
      "image/png": "[encoded data removed]",
      "text/plain": [
       "<Figure size 576x288 with 3 Axes>"
      ]
     },
     "metadata": {
      "needs_background": "light"
     },
     "output_type": "display_data"
    }
   ],
   "source": [
    "# Let's plot lines on velocity vs lattice and velocity vs activity\n",
    "fig, ax = plt.subplots(1, 2, figsize=(8, 4), sharey=True)\n",
    "maxPe = max(peList)\n",
    "for i in xrange(len(all_data)):\n",
    "    if actList[i]:\n",
    "        ax[0].scatter(latList[i], all_data[i]['Velocity'][0], c=plt.cm.jet(peList[i]/maxPe))\n",
    "    else:\n",
    "        ax[1].scatter(latList[i], all_data[i]['Velocity'][0], c=plt.cm.jet(peList[i]/maxPe))\n",
    "        \n",
    "ax[0].set_xlim(0.8, 1.04)\n",
    "ax[1].set_xlim(0.8, 1.04)\n",
    "ax[0].set_xlabel(r'Lattice spacing $(a)$')\n",
    "ax[1].set_xlabel(r'Lattice spacing $(a)$')\n",
    "ax[0].set_ylabel(r'Average HCP velocity $(\\nu_{hcp})$')\n",
    "ax[0].set_title('Active particles')\n",
    "ax[1].set_title('Ballistic particles')\n",
    "plt.subplots_adjust(wspace=0.1)\n",
    "\n",
    "# Make a colorbar (left, bottom, width, height)\n",
    "ax3 = fig.add_axes([0.91, 0.562, 0.01, 0.32])\n",
    "jet_trunc = mpl.cm.jet\n",
    "norm = mpl.colors.Normalize(vmin=50, vmax=500)\n",
    "cb1 = mpl.colorbar.ColorbarBase(ax3, cmap=jet_trunc,\n",
    "                                norm=norm,\n",
    "                                orientation='vertical',\n",
    "                               ticks=[50, 300, 500])\n",
    "cb1.set_label(r'$Pe$', labelpad=15, rotation=270)\n",
    "\n",
    "plt.show()"
   ]
  },
  {
   "cell_type": "code",
   "execution_count": 50,
   "metadata": {},
   "outputs": [
    {
     "data": {
      "image/png": "[encoded data removed]",
      "text/plain": [
       "<Figure size 576x288 with 3 Axes>"
      ]
     },
     "metadata": {
      "needs_background": "light"
     },
     "output_type": "display_data"
    }
   ],
   "source": [
    "# Let's plot lines on velocity vs lattice and velocity vs activity\n",
    "fig, ax = plt.subplots(1, 2, figsize=(8, 4), sharey=True)\n",
    "maxLat = max(latList)\n",
    "\n",
    "# Lists\n",
    "actPes = []\n",
    "actVels = []\n",
    "actLats = []\n",
    "balPes = []\n",
    "balVels = []\n",
    "balLats = []\n",
    "\n",
    "for i in xrange(len(all_data)):\n",
    "    if actList[i]:\n",
    "        actPes.append(peList[i])\n",
    "        actVels.append(all_data[i]['Velocity'][0])\n",
    "        actLats.append(latList[i])\n",
    "#         ax[0].scatter(peList[i], all_data[i]['Velocity'][0], c=plt.cm.jet(latList[i]/maxLat))\n",
    "    else:\n",
    "        balPes.append(peList[i])\n",
    "        balVels.append(all_data[i]['Velocity'][0])\n",
    "        balLats.append(latList[i])\n",
    "#         ax[1].scatter(peList[i], all_data[i]['Velocity'][0], c=plt.cm.jet(latList[i]/maxLat))\n",
    "\n",
    "sc1 = ax[0].scatter(actPes, actVels, c=actLats, cmap='jet', vmin=0.8, vmax=1.05)\n",
    "sc2 = ax[1].scatter(balPes, balVels, c=balLats, cmap='jet', vmin=0.8, vmax=1.05)\n",
    "plt.colorbar(sc1)\n",
    "ax[0].set_xlabel(r'Activity $(Pe)$')\n",
    "ax[1].set_xlabel(r'Activity $(Pe)$')\n",
    "ax[0].set_ylabel(r'Average HCP velocity $(\\nu_{hcp})$')\n",
    "ax[0].set_title('Active particles')\n",
    "ax[1].set_title('Ballistic particles')\n",
    "plt.subplots_adjust(wspace=0.1)\n",
    "plt.show()"
   ]
  },
  {
   "cell_type": "code",
   "execution_count": null,
   "metadata": {},
   "outputs": [],
   "source": []
  }
 ],
 "metadata": {
  "hide_input": false,
  "kernelspec": {
   "display_name": "Python 2",
   "language": "python",
   "name": "python2"
  },
  "language_info": {
   "codemirror_mode": {
    "name": "ipython",
    "version": 2
   },
   "file_extension": ".py",
   "mimetype": "text/x-python",
   "name": "python",
   "nbconvert_exporter": "python",
   "pygments_lexer": "ipython2",
   "version": "2.7.16"
  }
 },
 "nbformat": 4,
 "nbformat_minor": 2
}
