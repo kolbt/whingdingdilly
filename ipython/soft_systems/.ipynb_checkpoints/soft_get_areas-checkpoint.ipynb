{
 "cells": [
  {
   "cell_type": "code",
   "execution_count": 1,
   "metadata": {
    "code_folding": [
     0
    ]
   },
   "outputs": [],
   "source": [
    "# This is the import cell\n",
    "import sys\n",
    "import os\n",
    "import numpy as np\n",
    "import pandas as pd\n",
    "import matplotlib.pyplot as plt\n",
    "first = True"
   ]
  },
  {
   "cell_type": "code",
   "execution_count": 2,
   "metadata": {
    "code_folding": [
     0
    ]
   },
   "outputs": [],
   "source": [
    "# Get the current path\n",
    "if first:\n",
    "    parent = os.getcwd()\n",
    "os.chdir(parent)\n",
    "\n",
    "# Grab file names from data folder\n",
    "data = os.listdir('data')"
   ]
  },
  {
   "cell_type": "code",
   "execution_count": 3,
   "metadata": {
    "code_folding": [
     0
    ]
   },
   "outputs": [],
   "source": [
    "# Some functions to get the relevant data from the filenames\n",
    "def checkFile(fname, ref):\n",
    "    boolean = False\n",
    "    for i in xrange(len(fname)):\n",
    "        if fname[i] == ref[0]:\n",
    "            for j in xrange(1, len(ref)):\n",
    "                if fname[i + j] == ref[j]:\n",
    "                    boolean = True\n",
    "                    break\n",
    "    return boolean\n",
    "\n",
    "def txtValue(fname, string):\n",
    "    out = \"\"\n",
    "    index = 0\n",
    "    for i in xrange(len(fname)):\n",
    "        if fname[i] == string[0]:\n",
    "            for j in xrange(1, len(string)):\n",
    "                if fname[i + j] == string[j]:\n",
    "                    if j == (len(string) - 1):\n",
    "                        index = i + j\n",
    "    index += 1\n",
    "    mybool = True\n",
    "    while mybool:\n",
    "        if fname[index].isdigit():\n",
    "            out = out + fname[index]\n",
    "            index += 1\n",
    "        else:\n",
    "            mybool = False\n",
    "    return out"
   ]
  },
  {
   "cell_type": "code",
   "execution_count": 4,
   "metadata": {
    "code_folding": []
   },
   "outputs": [
    {
     "data": {
      "text/html": [
       "<div>\n",
       "<style scoped>\n",
       "    .dataframe tbody tr th:only-of-type {\n",
       "        vertical-align: middle;\n",
       "    }\n",
       "\n",
       "    .dataframe tbody tr th {\n",
       "        vertical-align: top;\n",
       "    }\n",
       "\n",
       "    .dataframe thead th {\n",
       "        text-align: right;\n",
       "    }\n",
       "</style>\n",
       "<table border=\"1\" class=\"dataframe\">\n",
       "  <thead>\n",
       "    <tr style=\"text-align: right;\">\n",
       "      <th></th>\n",
       "      <th>Timestep</th>\n",
       "      <th>Gas_A</th>\n",
       "      <th>Gas_B</th>\n",
       "      <th>Gas_tot</th>\n",
       "      <th>Dense_A</th>\n",
       "      <th>Dense_B</th>\n",
       "      <th>Dense_tot</th>\n",
       "      <th>Lc_numA</th>\n",
       "      <th>Lc_numB</th>\n",
       "      <th>Lg_clust</th>\n",
       "      <th>...</th>\n",
       "      <th>sigAB</th>\n",
       "      <th>sigBB</th>\n",
       "      <th>phiEff</th>\n",
       "      <th>Lc_area_A</th>\n",
       "      <th>Lc_area_B</th>\n",
       "      <th>lc_area</th>\n",
       "      <th>den_area_A</th>\n",
       "      <th>den_area_B</th>\n",
       "      <th>den_area</th>\n",
       "      <th>Box_area</th>\n",
       "    </tr>\n",
       "  </thead>\n",
       "  <tbody>\n",
       "    <tr>\n",
       "      <th>0</th>\n",
       "      <td>39600000.0</td>\n",
       "      <td>99796</td>\n",
       "      <td>30385</td>\n",
       "      <td>130181</td>\n",
       "      <td>150204</td>\n",
       "      <td>219615</td>\n",
       "      <td>369819</td>\n",
       "      <td>60822</td>\n",
       "      <td>88997</td>\n",
       "      <td>149819</td>\n",
       "      <td>...</td>\n",
       "      <td>0.7684</td>\n",
       "      <td>0.7749</td>\n",
       "      <td>0.4</td>\n",
       "      <td>28253.2947</td>\n",
       "      <td>40115.8951</td>\n",
       "      <td>68369.1898</td>\n",
       "      <td>70465.4953</td>\n",
       "      <td>99392.5496</td>\n",
       "      <td>169858.0449</td>\n",
       "      <td>654498.5</td>\n",
       "    </tr>\n",
       "    <tr>\n",
       "      <th>1</th>\n",
       "      <td>39800000.0</td>\n",
       "      <td>99841</td>\n",
       "      <td>30630</td>\n",
       "      <td>130471</td>\n",
       "      <td>150159</td>\n",
       "      <td>219370</td>\n",
       "      <td>369529</td>\n",
       "      <td>60854</td>\n",
       "      <td>88969</td>\n",
       "      <td>149823</td>\n",
       "      <td>...</td>\n",
       "      <td>0.7741</td>\n",
       "      <td>0.7671</td>\n",
       "      <td>0.4</td>\n",
       "      <td>28335.6993</td>\n",
       "      <td>40143.3867</td>\n",
       "      <td>68479.0860</td>\n",
       "      <td>70502.1812</td>\n",
       "      <td>99250.2821</td>\n",
       "      <td>169752.4634</td>\n",
       "      <td>654498.5</td>\n",
       "    </tr>\n",
       "  </tbody>\n",
       "</table>\n",
       "<p>2 rows × 23 columns</p>\n",
       "</div>"
      ],
      "text/plain": [
       "     Timestep  Gas_A  Gas_B  Gas_tot  Dense_A  Dense_B  Dense_tot  Lc_numA  \\\n",
       "0  39600000.0  99796  30385   130181   150204   219615     369819    60822   \n",
       "1  39800000.0  99841  30630   130471   150159   219370     369529    60854   \n",
       "\n",
       "   Lc_numB  Lg_clust    ...      sigAB   sigBB  phiEff   Lc_area_A  \\\n",
       "0    88997    149819    ...     0.7684  0.7749     0.4  28253.2947   \n",
       "1    88969    149823    ...     0.7741  0.7671     0.4  28335.6993   \n",
       "\n",
       "    Lc_area_B     lc_area  den_area_A  den_area_B     den_area  Box_area  \n",
       "0  40115.8951  68369.1898  70465.4953  99392.5496  169858.0449  654498.5  \n",
       "1  40143.3867  68479.0860  70502.1812  99250.2821  169752.4634  654498.5  \n",
       "\n",
       "[2 rows x 23 columns]"
      ]
     },
     "metadata": {},
     "output_type": "display_data"
    }
   ],
   "source": [
    "# Grab parameters, sort them\n",
    "paList = []\n",
    "pbList = []\n",
    "xaList = []\n",
    "epList = []\n",
    "phiList = []\n",
    "for i in xrange(len(data)):\n",
    "    if checkFile(data[i], \"pa\"):\n",
    "        paList.append(txtValue(data[i], \"pa\"))\n",
    "    else:\n",
    "        paList.append(None)\n",
    "        \n",
    "    if checkFile(data[i], \"pb\"):\n",
    "        pbList.append(txtValue(data[i], \"pb\"))\n",
    "    else:\n",
    "        pbList.append(None)\n",
    "        \n",
    "    if checkFile(data[i], \"xa\"):\n",
    "        xaList.append(txtValue(data[i], \"xa\"))\n",
    "    else:\n",
    "        xaList.append(None)\n",
    "        \n",
    "    if checkFile(data[i], \"ep\"):\n",
    "        epList.append(txtValue(data[i], \"ep\"))\n",
    "    else:\n",
    "        epList.append(1.)\n",
    "        \n",
    "    if checkFile(data[i], \"phi\"):\n",
    "        phiList.append(txtValue(data[i], \"phi\"))\n",
    "    else:\n",
    "        phiList.append(60.)\n",
    "\n",
    "# Take a look at your lists\n",
    "# print(paList) \n",
    "# print(pbList) \n",
    "# print(xaList) \n",
    "# print(epList) \n",
    "# print(phiList)        \n",
    "\n",
    "# Sort the arrays\n",
    "if len(paList) > 1:\n",
    "    # Sort them!\n",
    "    print(\"Sorting... \")\n",
    "    \n",
    "# Now that the data is sorted, read it into a dataframe\n",
    "all_data = []\n",
    "os.chdir('data')\n",
    "for i in xrange(len(data)):\n",
    "    df = pd.read_csv(data[i], sep='\\s+', header=0)\n",
    "    all_data.append(df)\n",
    "os.chdir(parent)\n",
    "\n",
    "# This is how you access the data at different levels\n",
    "display(all_data[0])\n",
    "# print(all_data[0]['Timestep'])\n",
    "# print(all_data[0]['Timestep'][0])"
   ]
  },
  {
   "cell_type": "code",
   "execution_count": 9,
   "metadata": {},
   "outputs": [],
   "source": [
    "# Get a parameter dataframe here...\n",
    "\n",
    "# Function to get conversion from timesteps to Brownian time\n",
    "def computeTauPerTstep(epsilon):\n",
    "    kBT = 1.0\n",
    "    tstepPerTau = int(epsilon / (kBT * 0.00001))\n",
    "    return 1. / tstepPerTau\n",
    "time = computeTauPerTstep(1.)"
   ]
  },
  {
   "cell_type": "code",
   "execution_count": 10,
   "metadata": {},
   "outputs": [
    {
     "data": {
      "image/png": "[encoded data removed]",
      "text/plain": [
       "<Figure size 432x288 with 1 Axes>"
      ]
     },
     "metadata": {
      "needs_background": "light"
     },
     "output_type": "display_data"
    }
   ],
   "source": [
    "# Let's make a precursory plot\n",
    "for i in xrange(len(data)):\n",
    "    plt.plot(all_data[i]['Timestep'][:] * time, all_data[i]['den_area'])"
   ]
  },
  {
   "cell_type": "code",
   "execution_count": 7,
   "metadata": {},
   "outputs": [],
   "source": [
    "# There are plenty of columns to add: area fraction, number density of each phase and type"
   ]
  },
  {
   "cell_type": "code",
   "execution_count": null,
   "metadata": {},
   "outputs": [],
   "source": [
    "# We also want to extract these relevant values at steady-state\n",
    "\n",
    "# You have time to write this write some good code where the data\n",
    "# has to maintain some percentage of it's final"
   ]
  }
 ],
 "metadata": {
  "hide_input": false,
  "kernelspec": {
   "display_name": "Python 2",
   "language": "python",
   "name": "python2"
  },
  "language_info": {
   "codemirror_mode": {
    "name": "ipython",
    "version": 2
   },
   "file_extension": ".py",
   "mimetype": "text/x-python",
   "name": "python",
   "nbconvert_exporter": "python",
   "pygments_lexer": "ipython2",
   "version": "2.7.16"
  }
 },
 "nbformat": 4,
 "nbformat_minor": 2
}
