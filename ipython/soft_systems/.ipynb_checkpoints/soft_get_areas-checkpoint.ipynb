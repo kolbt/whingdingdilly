{
 "cells": [
  {
   "cell_type": "code",
   "execution_count": 1,
   "metadata": {
    "code_folding": [
     0
    ]
   },
   "outputs": [],
   "source": [
    "# This is the import cell\n",
    "import sys\n",
    "import os\n",
    "import numpy as np\n",
    "import pandas as pd\n",
    "import matplotlib.pyplot as plt\n",
    "first = True"
   ]
  },
  {
   "cell_type": "code",
   "execution_count": 2,
   "metadata": {
    "code_folding": [
     0
    ]
   },
   "outputs": [],
   "source": [
    "# Get the current path\n",
    "if first:\n",
    "    parent = os.getcwd()\n",
    "os.chdir(parent)\n",
    "\n",
    "# Grab file names from data folder\n",
    "data = os.listdir('data')"
   ]
  },
  {
   "cell_type": "code",
   "execution_count": 3,
   "metadata": {
    "code_folding": []
   },
   "outputs": [],
   "source": [
    "# Some functions to get the relevant data from the filenames\n",
    "def checkFile(fname, ref):\n",
    "    boolean = False\n",
    "    for i in xrange(len(fname)):\n",
    "        if fname[i] == ref[0]:\n",
    "            for j in xrange(1, len(ref)):\n",
    "                if fname[i + j] == ref[j]:\n",
    "                    boolean = True\n",
    "                    break\n",
    "    return boolean\n",
    "\n",
    "def txtValue(fname, string):\n",
    "    out = \"\"\n",
    "    index = 0\n",
    "    for i in xrange(len(fname)):\n",
    "        if fname[i] == string[0]:\n",
    "            for j in xrange(1, len(string)):\n",
    "                if fname[i + j] == string[j]:\n",
    "                    if j == (len(string) - 1):\n",
    "                        index = i + j\n",
    "    index += 1\n",
    "    mybool = True\n",
    "    while mybool:\n",
    "        if fname[index].isdigit():\n",
    "            out = out + fname[index]\n",
    "            index += 1\n",
    "        else:\n",
    "            mybool = False\n",
    "    return out\n",
    "\n",
    "# Sorting functions\n",
    "def multiSort(arr1, arr2, arr3):\n",
    "    \"\"\"Sort an array the slow (but certain) way, returns original indices in sorted order\"\"\"\n",
    "    # Doing this for PeR, PeS, xS in this case\n",
    "    cpy1 = np.copy(arr1)\n",
    "    cpy2 = np.copy(arr2)\n",
    "    cpy3 = np.copy(arr3)\n",
    "    ind = np.arange(0, len(arr1))\n",
    "    for i in xrange(len(cpy1)):\n",
    "        for j in xrange(len(cpy1)):\n",
    "            # Sort by first variable\n",
    "            if cpy1[i] > cpy1[j] and i < j:\n",
    "                # Swap copy array values\n",
    "                cpy1[i], cpy1[j] = cpy1[j], cpy1[i]\n",
    "                cpy2[i], cpy2[j] = cpy2[j], cpy2[i]\n",
    "                cpy3[i], cpy3[j] = cpy3[j], cpy3[i]\n",
    "                # Swap the corresponding indices\n",
    "                ind[i], ind[j] = ind[j], ind[i]\n",
    "                \n",
    "            # If first variable is equal, resort to second variable\n",
    "            elif cpy1[i] == cpy1[j] and cpy2[i] > cpy2[j] and i < j:\n",
    "                # Swap copy array values\n",
    "                cpy1[i], cpy1[j] = cpy1[j], cpy1[i]\n",
    "                cpy2[i], cpy2[j] = cpy2[j], cpy2[i]\n",
    "                cpy3[i], cpy3[j] = cpy3[j], cpy3[i]\n",
    "                # Swap the corresponding indices\n",
    "                ind[i], ind[j] = ind[j], ind[i]\n",
    "                \n",
    "            elif cpy1[i] == cpy1[j] and cpy2[i] == cpy2[j] and cpy3[i] > cpy3[j] and i < j:\n",
    "                # Swap copy array values\n",
    "                cpy1[i], cpy1[j] = cpy1[j], cpy1[i]\n",
    "                cpy2[i], cpy2[j] = cpy2[j], cpy2[i]\n",
    "                cpy3[i], cpy3[j] = cpy3[j], cpy3[i]\n",
    "                # Swap the corresponding indices\n",
    "                ind[i], ind[j] = ind[j], ind[i]      \n",
    "    return ind\n",
    "\n",
    "def indSort(arr1, arr2):\n",
    "    \"\"\"Take sorted index array, use to sort array\"\"\"\n",
    "    # arr1 is array to sort\n",
    "    # arr2 is index array\n",
    "    cpy = np.copy(arr1)\n",
    "    for i in xrange(len(arr1)):\n",
    "        arr1[i] = cpy[arr2[i]]"
   ]
  },
  {
   "cell_type": "code",
   "execution_count": 4,
   "metadata": {
    "code_folding": []
   },
   "outputs": [
    {
     "name": "stdout",
     "output_type": "stream",
     "text": [
      "Sorting... \n",
      "Sorted textfiles:\n",
      "diam_pa100_pb500_xa50.txt\n",
      "diam_pa150_pb500_xa50.txt\n"
     ]
    }
   ],
   "source": [
    "# Grab parameters, sort them\n",
    "peList = []\n",
    "paList = []\n",
    "pbList = []\n",
    "xaList = []\n",
    "epList = []\n",
    "phiList = []\n",
    "for i in xrange(len(data)):\n",
    "    if checkFile(data[i], \"pe\"):\n",
    "        peList.append(txtValue(data[i], \"pe\"))\n",
    "    else:\n",
    "        peList.append(None)\n",
    "    \n",
    "    if checkFile(data[i], \"pa\"):\n",
    "        paList.append(txtValue(data[i], \"pa\"))\n",
    "    else:\n",
    "        paList.append(None)\n",
    "        \n",
    "    if checkFile(data[i], \"pb\"):\n",
    "        pbList.append(txtValue(data[i], \"pb\"))\n",
    "    else:\n",
    "        pbList.append(None)\n",
    "        \n",
    "    if checkFile(data[i], \"xa\"):\n",
    "        xaList.append(txtValue(data[i], \"xa\"))\n",
    "    else:\n",
    "        xaList.append(None)\n",
    "        \n",
    "    if checkFile(data[i], \"ep\"):\n",
    "        epList.append(txtValue(data[i], \"ep\"))\n",
    "    else:\n",
    "        epList.append(1.)\n",
    "        \n",
    "    if checkFile(data[i], \"phi\"):\n",
    "        phiList.append(txtValue(data[i], \"phi\"))\n",
    "    else:\n",
    "        phiList.append(60.)\n",
    "\n",
    "# Take a look at your lists\n",
    "# print(peList)\n",
    "# print(paList) \n",
    "# print(pbList) \n",
    "# print(xaList) \n",
    "# print(epList) \n",
    "# print(phiList)        \n",
    "\n",
    "# Sort the arrays\n",
    "if len(paList) > 1:\n",
    "    # Sort them!\n",
    "    print(\"Sorting... \")\n",
    "#     indArr = multiSort(peList, epList, phiList)\n",
    "    indArr = multiSort(paList, epList, phiList)\n",
    "    indSort(data, indArr)\n",
    "    indSort(peList, indArr)\n",
    "    indSort(paList, indArr)\n",
    "    indSort(pbList, indArr)\n",
    "    indSort(xaList, indArr)\n",
    "    indSort(epList, indArr)\n",
    "    indSort(phiList, indArr)\n",
    "\n",
    "# Print the sorted array\n",
    "print(\"Sorted textfiles:\")\n",
    "for i in data:\n",
    "    print(i)\n",
    "    \n",
    "# Now that the data is sorted, read it into a dataframe\n",
    "all_data = []\n",
    "os.chdir('data')\n",
    "for i in xrange(len(data)):\n",
    "    df = pd.read_csv(data[i], sep='\\s+', header=0)\n",
    "    all_data.append(df)\n",
    "os.chdir(parent)\n",
    "\n",
    "# This is how you access the data at different levels\n",
    "# display(all_data[0])\n",
    "# print(all_data[0]['Timestep'])\n",
    "# print(all_data[0]['Timestep'][0])"
   ]
  },
  {
   "cell_type": "code",
   "execution_count": null,
   "metadata": {},
   "outputs": [],
   "source": [
    "# Grab the parameters from each file, store in a dataframe\n",
    "params = []\n",
    "for i in xrange(len(data)):\n",
    "    "
   ]
  },
  {
   "cell_type": "code",
   "execution_count": 5,
   "metadata": {},
   "outputs": [],
   "source": [
    "# Get a parameter dataframe here...\n",
    "\n",
    "# Function to get conversion from timesteps to Brownian time\n",
    "def computeTauPerTstep(epsilon):\n",
    "    kBT = 1.0\n",
    "    tstepPerTau = int(epsilon / (kBT * 0.00001))\n",
    "    return 1. / tstepPerTau\n",
    "time = computeTauPerTstep(1.)"
   ]
  },
  {
   "cell_type": "code",
   "execution_count": 6,
   "metadata": {},
   "outputs": [
    {
     "data": {
      "image/png": "[encoded data removed]",
      "text/plain": [
       "<Figure size 432x288 with 1 Axes>"
      ]
     },
     "metadata": {
      "needs_background": "light"
     },
     "output_type": "display_data"
    }
   ],
   "source": [
    "# Let's make a precursory plot\n",
    "for i in xrange(len(data)):\n",
    "    plt.plot(all_data[i]['Timestep'][:] * time, all_data[i]['den_area'])"
   ]
  },
  {
   "cell_type": "code",
   "execution_count": 7,
   "metadata": {},
   "outputs": [],
   "source": [
    "# There are plenty of columns to add: area fraction, number density of each phase and type"
   ]
  },
  {
   "cell_type": "code",
   "execution_count": 8,
   "metadata": {},
   "outputs": [],
   "source": [
    "# We also want to extract these relevant values at steady-state\n",
    "\n",
    "# You have time to write this write some good code where the data\n",
    "# has to maintain some percentage of it's final"
   ]
  }
 ],
 "metadata": {
  "hide_input": false,
  "kernelspec": {
   "display_name": "Python 2",
   "language": "python",
   "name": "python2"
  },
  "language_info": {
   "codemirror_mode": {
    "name": "ipython",
    "version": 2
   },
   "file_extension": ".py",
   "mimetype": "text/x-python",
   "name": "python",
   "nbconvert_exporter": "python",
   "pygments_lexer": "ipython2",
   "version": "2.7.16"
  }
 },
 "nbformat": 4,
 "nbformat_minor": 2
}
