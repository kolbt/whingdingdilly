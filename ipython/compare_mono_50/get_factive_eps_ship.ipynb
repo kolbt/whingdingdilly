{
 "cells": [
  {
   "cell_type": "code",
   "execution_count": 1,
   "metadata": {},
   "outputs": [],
   "source": [
    "# Import that good good\n",
    "import sys\n",
    "import os\n",
    "sys.path.append('/Users/kolbt/Desktop/ipython/diam_files')\n",
    "import pandas as pd\n",
    "import matplotlib.pyplot as plt\n",
    "import numpy as np \n",
    "import math\n",
    "from IPython.display import display\n",
    "from collections import OrderedDict\n",
    "pd.options.display.max_rows = 2\n",
    "import matplotlib.colors as mc\n",
    "import colorsys"
   ]
  },
  {
   "cell_type": "code",
   "execution_count": 19,
   "metadata": {},
   "outputs": [],
   "source": [
    "# Define what functions you'll need here\n",
    "def getFromTxt(fname, first, last):\n",
    "    \"Takes a string, text before and after desired text, outs text between\"\n",
    "    start = fname.index( first ) + len( first )\n",
    "    end = fname.index( last, start )\n",
    "    myTxt = fname[start:end]\n",
    "    return float(myTxt)\n",
    "# Above function kindly provided by user \"cji\" on stackoverflow\n",
    "# https://stackoverflow.com/questions/3368969/find-string-between-two-substrings\n",
    "\n",
    "# Make sure data is sorted appropriately\n",
    "def sortArray(array, sort_var):\n",
    "    \"Takes an array and the column name to sort, sorts array \"\n",
    "    for i in range(0, len(array)):\n",
    "        for k in range(0, len(array[i])):\n",
    "            for j in range(0, len(array[i])):\n",
    "                # Out of order, swap them\n",
    "                if array[i].loc[j, sort_var] < array[i].loc[k, sort_var] and k < j:\n",
    "                    print(\"Sorting... \")\n",
    "                    tmp = array[i].iloc[j].copy()\n",
    "                    array[i].iloc[j] = array[i].iloc[k]\n",
    "                    array[i].iloc[k] = tmp\n",
    "                    \n",
    "def plotter(start, stop, ylab):\n",
    "    \"Plotting function so that I don't have to show this a zillion times\"\n",
    "    ind = 0\n",
    "    for j in range(start, stop):\n",
    "        for i in range(0, len(SS[headers[j]])):\n",
    "            # Mixture\n",
    "            if params['xA'][i] % 100 != 0:\n",
    "                plt.scatter(params['peA'][i], SS[headers[j]][i], c=col[ind], label=headers[j])\n",
    "            # Monodisperse, always same color\n",
    "            else:\n",
    "                # If it's zero ignore it\n",
    "                if SS[headers[j]][i] != 0:\n",
    "                    plt.scatter(params['peA'][i], SS[headers[j]][i], c=col[-1], label='Mono')\n",
    "        ind += 1\n",
    "    \n",
    "    handles, labels = plt.gca().get_legend_handles_labels()\n",
    "    by_label = OrderedDict(zip(labels, handles))\n",
    "    plt.legend(by_label.values(), by_label.keys())\n",
    "    plt.xlabel('Activity (Pe)')\n",
    "    plt.ylabel(ylab)\n",
    "    plt.show()\n",
    "    \n",
    "def diamToForce(r):\n",
    "    \"Take diameter, output LJ-force\"\n",
    "    eps = 1.0\n",
    "    sigma = 1.0\n",
    "    F_LJ = 24.0 * eps * ((2 * (sigma**12) * (r**-13)) - ((sigma**6) * (r**-7)))\n",
    "    return F_LJ\n",
    "\n",
    "def forceToEps(force):\n",
    "    \"Take LJ-force and output epsilon to give diameter of 1\"\n",
    "    epsilon = force / 24.0\n",
    "    return epsilon\n",
    "\n",
    "# https://mycurvefit.com/\n",
    "def linear(a, x, b):\n",
    "    return (a*x)+b\n",
    "\n",
    "def powerLaw(a, x, b):\n",
    "    return a*(x**b)\n",
    "\n",
    "def exponential(a, b, c, x):\n",
    "    \"Exponential: a - (b/c) * (1 - (e**-cx))\"\n",
    "    return a - ((b/c)*(1-(math.exp(-c*x))))\n",
    "\n",
    "def plateau(a, x, b):\n",
    "    \"Plateau: a * x / (b + x)\"\n",
    "    return (a * x) / (b + x)\n",
    "\n",
    "def logarithmic(a, x, b):\n",
    "    \"Logarithmic: a * ln(x) + b\"\n",
    "    if x != 0:\n",
    "        return (a * math.log(x)) + b\n",
    "    else:\n",
    "        return 0\n",
    "    \n",
    "# https://stackoverflow.com/questions/37765197/darken-or-lighten-a-color-in-matplotlib\n",
    "def colorShade(color, amount=0.5):\n",
    "    \"Gives multiple shades of a base color\"\n",
    "    try:\n",
    "        c = mc.cnames[color]\n",
    "    except:\n",
    "        c = color\n",
    "    c = colorsys.rgb_to_hls(*mc.to_rgb(c))\n",
    "    return colorsys.hls_to_rgb(c[0], 1 - amount * (1 - c[1]), c[2])"
   ]
  },
  {
   "cell_type": "code",
   "execution_count": 3,
   "metadata": {},
   "outputs": [
    {
     "name": "stdout",
     "output_type": "stream",
     "text": [
      "['diam_pa0_pb0_xa100.txt', 'diam_pa100_pb0_xa100.txt', 'diam_pa150_pb0_xa100.txt', 'diam_pa200_pb0_xa100.txt', 'diam_pa250_pb0_xa100.txt', 'diam_pa300_pb0_xa100.txt', 'diam_pa350_pb0_xa100.txt', 'diam_pa400_pb0_xa100.txt', 'diam_pa450_pb0_xa100.txt', 'diam_pa500_pb0_xa100.txt', 'diam_pa50_pb0_xa100.txt']\n"
     ]
    }
   ],
   "source": [
    "# Get the data files\n",
    "os.chdir('/Users/kolbt/Desktop/ipython')\n",
    "txtFiles = os.listdir('eps1')\n",
    "all_sims = []\n",
    "print(txtFiles)"
   ]
  },
  {
   "cell_type": "code",
   "execution_count": 4,
   "metadata": {},
   "outputs": [],
   "source": [
    "# Using the absolute path means I can go to whatever directory I want\n",
    "os.chdir('/Users/kolbt/Desktop/ipython/eps1')\n",
    "for i in range(0, len(txtFiles)):\n",
    "    df = pd.read_csv(txtFiles[i], sep='\\s+', header=0)\n",
    "    all_sims.append(df)"
   ]
  },
  {
   "cell_type": "code",
   "execution_count": 5,
   "metadata": {},
   "outputs": [
    {
     "data": {
      "text/html": [
       "<div>\n",
       "<style scoped>\n",
       "    .dataframe tbody tr th:only-of-type {\n",
       "        vertical-align: middle;\n",
       "    }\n",
       "\n",
       "    .dataframe tbody tr th {\n",
       "        vertical-align: top;\n",
       "    }\n",
       "\n",
       "    .dataframe thead th {\n",
       "        text-align: right;\n",
       "    }\n",
       "</style>\n",
       "<table border=\"1\" class=\"dataframe\">\n",
       "  <thead>\n",
       "    <tr style=\"text-align: right;\">\n",
       "      <th></th>\n",
       "      <th>Timestep</th>\n",
       "      <th>Gas_A</th>\n",
       "      <th>Gas_B</th>\n",
       "      <th>Gas_tot</th>\n",
       "      <th>Dense_A</th>\n",
       "      <th>Dense_B</th>\n",
       "      <th>Dense_tot</th>\n",
       "      <th>Lg_clust</th>\n",
       "      <th>MCS</th>\n",
       "      <th>sigALL</th>\n",
       "      <th>sigAA</th>\n",
       "      <th>sigAB</th>\n",
       "      <th>sigBB</th>\n",
       "      <th>phiEff</th>\n",
       "      <th>lg_clustA</th>\n",
       "      <th>tot_clustA</th>\n",
       "      <th>LC_density</th>\n",
       "      <th>DP_density</th>\n",
       "      <th>GP_density</th>\n",
       "    </tr>\n",
       "  </thead>\n",
       "  <tbody>\n",
       "    <tr>\n",
       "      <th>0</th>\n",
       "      <td>0.0</td>\n",
       "      <td>200000</td>\n",
       "      <td>0</td>\n",
       "      <td>200000</td>\n",
       "      <td>0</td>\n",
       "      <td>0</td>\n",
       "      <td>0</td>\n",
       "      <td>20</td>\n",
       "      <td>0</td>\n",
       "      <td>1.0127</td>\n",
       "      <td>1.0127</td>\n",
       "      <td>0.0</td>\n",
       "      <td>0.0</td>\n",
       "      <td>0.61</td>\n",
       "      <td>16.1</td>\n",
       "      <td>0.0</td>\n",
       "      <td>1.24</td>\n",
       "      <td>0.0</td>\n",
       "      <td>0.76</td>\n",
       "    </tr>\n",
       "    <tr>\n",
       "      <th>...</th>\n",
       "      <td>...</td>\n",
       "      <td>...</td>\n",
       "      <td>...</td>\n",
       "      <td>...</td>\n",
       "      <td>...</td>\n",
       "      <td>...</td>\n",
       "      <td>...</td>\n",
       "      <td>...</td>\n",
       "      <td>...</td>\n",
       "      <td>...</td>\n",
       "      <td>...</td>\n",
       "      <td>...</td>\n",
       "      <td>...</td>\n",
       "      <td>...</td>\n",
       "      <td>...</td>\n",
       "      <td>...</td>\n",
       "      <td>...</td>\n",
       "      <td>...</td>\n",
       "      <td>...</td>\n",
       "    </tr>\n",
       "    <tr>\n",
       "      <th>999</th>\n",
       "      <td>199800000.0</td>\n",
       "      <td>200000</td>\n",
       "      <td>0</td>\n",
       "      <td>200000</td>\n",
       "      <td>0</td>\n",
       "      <td>0</td>\n",
       "      <td>0</td>\n",
       "      <td>12</td>\n",
       "      <td>0</td>\n",
       "      <td>1.0020</td>\n",
       "      <td>1.0020</td>\n",
       "      <td>0.0</td>\n",
       "      <td>0.0</td>\n",
       "      <td>0.60</td>\n",
       "      <td>9.5</td>\n",
       "      <td>0.0</td>\n",
       "      <td>1.27</td>\n",
       "      <td>0.0</td>\n",
       "      <td>0.76</td>\n",
       "    </tr>\n",
       "  </tbody>\n",
       "</table>\n",
       "<p>1000 rows × 19 columns</p>\n",
       "</div>"
      ],
      "text/plain": [
       "        Timestep   Gas_A  Gas_B  Gas_tot  Dense_A  Dense_B  Dense_tot  \\\n",
       "0            0.0  200000      0   200000        0        0          0   \n",
       "..           ...     ...    ...      ...      ...      ...        ...   \n",
       "999  199800000.0  200000      0   200000        0        0          0   \n",
       "\n",
       "     Lg_clust  MCS  sigALL   sigAA  sigAB  sigBB  phiEff  lg_clustA  \\\n",
       "0          20    0  1.0127  1.0127    0.0    0.0    0.61       16.1   \n",
       "..        ...  ...     ...     ...    ...    ...     ...        ...   \n",
       "999        12    0  1.0020  1.0020    0.0    0.0    0.60        9.5   \n",
       "\n",
       "     tot_clustA  LC_density  DP_density  GP_density  \n",
       "0           0.0        1.24         0.0        0.76  \n",
       "..          ...         ...         ...         ...  \n",
       "999         0.0        1.27         0.0        0.76  \n",
       "\n",
       "[1000 rows x 19 columns]"
      ]
     },
     "metadata": {},
     "output_type": "display_data"
    }
   ],
   "source": [
    "# Make sure all data is in correct timestep order\n",
    "sortArray(all_sims, 'Timestep')\n",
    "display(all_sims[0])"
   ]
  },
  {
   "cell_type": "code",
   "execution_count": 6,
   "metadata": {},
   "outputs": [
    {
     "data": {
      "text/html": [
       "<div>\n",
       "<style scoped>\n",
       "    .dataframe tbody tr th:only-of-type {\n",
       "        vertical-align: middle;\n",
       "    }\n",
       "\n",
       "    .dataframe tbody tr th {\n",
       "        vertical-align: top;\n",
       "    }\n",
       "\n",
       "    .dataframe thead th {\n",
       "        text-align: right;\n",
       "    }\n",
       "</style>\n",
       "<table border=\"1\" class=\"dataframe\">\n",
       "  <thead>\n",
       "    <tr style=\"text-align: right;\">\n",
       "      <th></th>\n",
       "      <th>partAll</th>\n",
       "      <th>partA</th>\n",
       "      <th>partB</th>\n",
       "      <th>peA</th>\n",
       "      <th>peB</th>\n",
       "      <th>xA</th>\n",
       "      <th>peR</th>\n",
       "    </tr>\n",
       "  </thead>\n",
       "  <tbody>\n",
       "    <tr>\n",
       "      <th>0</th>\n",
       "      <td>200000</td>\n",
       "      <td>200000</td>\n",
       "      <td>0</td>\n",
       "      <td>0.0</td>\n",
       "      <td>0.0</td>\n",
       "      <td>100.0</td>\n",
       "      <td>0.0</td>\n",
       "    </tr>\n",
       "    <tr>\n",
       "      <th>...</th>\n",
       "      <td>...</td>\n",
       "      <td>...</td>\n",
       "      <td>...</td>\n",
       "      <td>...</td>\n",
       "      <td>...</td>\n",
       "      <td>...</td>\n",
       "      <td>...</td>\n",
       "    </tr>\n",
       "    <tr>\n",
       "      <th>10</th>\n",
       "      <td>200000</td>\n",
       "      <td>200000</td>\n",
       "      <td>0</td>\n",
       "      <td>50.0</td>\n",
       "      <td>0.0</td>\n",
       "      <td>100.0</td>\n",
       "      <td>0.0</td>\n",
       "    </tr>\n",
       "  </tbody>\n",
       "</table>\n",
       "<p>11 rows × 7 columns</p>\n",
       "</div>"
      ],
      "text/plain": [
       "    partAll   partA  partB   peA  peB     xA  peR\n",
       "0    200000  200000      0   0.0  0.0  100.0  0.0\n",
       "..      ...     ...    ...   ...  ...    ...  ...\n",
       "10   200000  200000      0  50.0  0.0  100.0  0.0\n",
       "\n",
       "[11 rows x 7 columns]"
      ]
     },
     "metadata": {},
     "output_type": "display_data"
    }
   ],
   "source": [
    "# Make an additional frame that gives total number of particles, and simulation parameters\n",
    "paramList = []\n",
    "for i in range(0, len(txtFiles)):\n",
    "    partAll = all_sims[i]['Gas_tot'][0]\n",
    "    partA = all_sims[i]['Gas_A'][0]\n",
    "    partB = all_sims[i]['Gas_B'][0]\n",
    "    pa = getFromTxt(txtFiles[i], \"pa\", \"_pb\")\n",
    "    pb = getFromTxt(txtFiles[i], \"pb\", \"_xa\")\n",
    "    xa = getFromTxt(txtFiles[i], \"xa\", \".txt\")\n",
    "    try:\n",
    "        prat = float(pa)/float(pb)\n",
    "    except:\n",
    "        prat = 0.0\n",
    "    paramList.append((partAll, partA, partB, pa, pb, xa, prat))\n",
    "\n",
    "params = pd.DataFrame(paramList, columns=['partAll', 'partA', 'partB', 'peA', 'peB', 'xA', 'peR'])\n",
    "display(params)"
   ]
  },
  {
   "cell_type": "code",
   "execution_count": 7,
   "metadata": {},
   "outputs": [
    {
     "data": {
      "text/html": [
       "<div>\n",
       "<style scoped>\n",
       "    .dataframe tbody tr th:only-of-type {\n",
       "        vertical-align: middle;\n",
       "    }\n",
       "\n",
       "    .dataframe tbody tr th {\n",
       "        vertical-align: top;\n",
       "    }\n",
       "\n",
       "    .dataframe thead th {\n",
       "        text-align: right;\n",
       "    }\n",
       "</style>\n",
       "<table border=\"1\" class=\"dataframe\">\n",
       "  <thead>\n",
       "    <tr style=\"text-align: right;\">\n",
       "      <th></th>\n",
       "      <th>Gas_A</th>\n",
       "      <th>Gas_B</th>\n",
       "      <th>Gas_tot</th>\n",
       "      <th>Dense_A</th>\n",
       "      <th>Dense_B</th>\n",
       "      <th>Dense_tot</th>\n",
       "      <th>Lg_clust</th>\n",
       "      <th>MCS</th>\n",
       "      <th>sigALL</th>\n",
       "      <th>sigAA</th>\n",
       "      <th>sigAB</th>\n",
       "      <th>sigBB</th>\n",
       "      <th>phiEff</th>\n",
       "      <th>lg_clustA</th>\n",
       "      <th>tot_clustA</th>\n",
       "      <th>LC_density</th>\n",
       "      <th>DP_density</th>\n",
       "      <th>GP_density</th>\n",
       "    </tr>\n",
       "  </thead>\n",
       "  <tbody>\n",
       "    <tr>\n",
       "      <th>0</th>\n",
       "      <td>200000</td>\n",
       "      <td>0</td>\n",
       "      <td>200000</td>\n",
       "      <td>0</td>\n",
       "      <td>0</td>\n",
       "      <td>0</td>\n",
       "      <td>13.3434</td>\n",
       "      <td>0</td>\n",
       "      <td>1.00646</td>\n",
       "      <td>1.00646</td>\n",
       "      <td>0</td>\n",
       "      <td>0</td>\n",
       "      <td>0.603535</td>\n",
       "      <td>10.6121</td>\n",
       "      <td>0</td>\n",
       "      <td>1.25697</td>\n",
       "      <td>0</td>\n",
       "      <td>0.76</td>\n",
       "    </tr>\n",
       "    <tr>\n",
       "      <th>...</th>\n",
       "      <td>...</td>\n",
       "      <td>...</td>\n",
       "      <td>...</td>\n",
       "      <td>...</td>\n",
       "      <td>...</td>\n",
       "      <td>...</td>\n",
       "      <td>...</td>\n",
       "      <td>...</td>\n",
       "      <td>...</td>\n",
       "      <td>...</td>\n",
       "      <td>...</td>\n",
       "      <td>...</td>\n",
       "      <td>...</td>\n",
       "      <td>...</td>\n",
       "      <td>...</td>\n",
       "      <td>...</td>\n",
       "      <td>...</td>\n",
       "      <td>...</td>\n",
       "    </tr>\n",
       "    <tr>\n",
       "      <th>10</th>\n",
       "      <td>116713</td>\n",
       "      <td>0</td>\n",
       "      <td>116713</td>\n",
       "      <td>83287.3</td>\n",
       "      <td>0</td>\n",
       "      <td>83287.3</td>\n",
       "      <td>14813</td>\n",
       "      <td>3997.57</td>\n",
       "      <td>0.973223</td>\n",
       "      <td>0.973223</td>\n",
       "      <td>0</td>\n",
       "      <td>0</td>\n",
       "      <td>0.584141</td>\n",
       "      <td>11010.4</td>\n",
       "      <td>61962.9</td>\n",
       "      <td>1.34444</td>\n",
       "      <td>1.34444</td>\n",
       "      <td>0.583636</td>\n",
       "    </tr>\n",
       "  </tbody>\n",
       "</table>\n",
       "<p>11 rows × 18 columns</p>\n",
       "</div>"
      ],
      "text/plain": [
       "     Gas_A Gas_B Gas_tot  Dense_A Dense_B Dense_tot Lg_clust      MCS  \\\n",
       "0   200000     0  200000        0       0         0  13.3434        0   \n",
       "..     ...   ...     ...      ...     ...       ...      ...      ...   \n",
       "10  116713     0  116713  83287.3       0   83287.3    14813  3997.57   \n",
       "\n",
       "      sigALL     sigAA sigAB sigBB    phiEff lg_clustA tot_clustA LC_density  \\\n",
       "0    1.00646   1.00646     0     0  0.603535   10.6121          0    1.25697   \n",
       "..       ...       ...   ...   ...       ...       ...        ...        ...   \n",
       "10  0.973223  0.973223     0     0  0.584141   11010.4    61962.9    1.34444   \n",
       "\n",
       "   DP_density GP_density  \n",
       "0           0       0.76  \n",
       "..        ...        ...  \n",
       "10    1.34444   0.583636  \n",
       "\n",
       "[11 rows x 18 columns]"
      ]
     },
     "metadata": {},
     "output_type": "display_data"
    }
   ],
   "source": [
    "# Make list of steady state column headers\n",
    "headers = list(all_sims[0])\n",
    "headers.remove('Timestep')\n",
    "SS = pd.DataFrame(columns=headers)\n",
    "for i in range(0, len(txtFiles)):\n",
    "    SS.loc[i] = [0] * len(headers)\n",
    "\n",
    "# Make dataframe of steady-state data\n",
    "for i in range(0, len(txtFiles)):\n",
    "    # Loop through each column (aside from tstep column)\n",
    "    for j in range(1, len(headers) + 1):\n",
    "        # Compute mean of last 100 entries in jth column of ith file\n",
    "        avg = np.mean(all_sims[i].iloc[-100:-1,j])\n",
    "        SS[headers[j-1]][i] = avg\n",
    "        \n",
    "# Normalize by number of particles\n",
    "# SS['Gas_A'][:] /= params['partA'][:]\n",
    "# SS['Gas_B'][:] /= params['partB'][:]\n",
    "# SS['Gas_tot'][:] /= params['partAll'][:]\n",
    "# SS['Dense_A'][:] /= params['partA'][:]\n",
    "# SS['Dense_B'][:] /= params['partB'][:]\n",
    "# SS['Dense_tot'][:] /= params['partAll'][:]\n",
    "# SS['Lg_clust'][:] /= params['partAll'][:]\n",
    "# SS['MCS'][:] /= params['partAll'][:]\n",
    "display(SS)"
   ]
  },
  {
   "cell_type": "code",
   "execution_count": 8,
   "metadata": {
    "scrolled": true
   },
   "outputs": [
    {
     "data": {
      "image/png": "[encoded data removed]",
      "text/plain": [
       "<Figure size 432x288 with 1 Axes>"
      ]
     },
     "metadata": {
      "needs_background": "light"
     },
     "output_type": "display_data"
    },
    {
     "data": {
      "image/png": "[encoded data removed]",
      "text/plain": [
       "<Figure size 432x288 with 1 Axes>"
      ]
     },
     "metadata": {
      "needs_background": "light"
     },
     "output_type": "display_data"
    },
    {
     "data": {
      "image/png": "[encoded data removed]",
      "text/plain": [
       "<Figure size 432x288 with 1 Axes>"
      ]
     },
     "metadata": {
      "needs_background": "light"
     },
     "output_type": "display_data"
    },
    {
     "data": {
      "image/png": "[encoded data removed]",
      "text/plain": [
       "<Figure size 432x288 with 1 Axes>"
      ]
     },
     "metadata": {
      "needs_background": "light"
     },
     "output_type": "display_data"
    },
    {
     "data": {
      "image/png": "[encoded data removed]",
      "text/plain": [
       "<Figure size 432x288 with 1 Axes>"
      ]
     },
     "metadata": {
      "needs_background": "light"
     },
     "output_type": "display_data"
    },
    {
     "data": {
      "image/png": "[encoded data removed]",
      "text/plain": [
       "<Figure size 432x288 with 1 Axes>"
      ]
     },
     "metadata": {
      "needs_background": "light"
     },
     "output_type": "display_data"
    },
    {
     "data": {
      "image/png": "[encoded data removed]",
      "text/plain": [
       "<Figure size 432x288 with 1 Axes>"
      ]
     },
     "metadata": {
      "needs_background": "light"
     },
     "output_type": "display_data"
    },
    {
     "data": {
      "image/png": "[encoded data removed]",
      "text/plain": [
       "<Figure size 432x288 with 1 Axes>"
      ]
     },
     "metadata": {
      "needs_background": "light"
     },
     "output_type": "display_data"
    }
   ],
   "source": [
    "# Plot the data\n",
    "# col = ['k', 'r', 'g', 'b']\n",
    "col = ['#e6194b', '#3cb44b', '#0082c8', '#f58231', '#ffe119','#911eb4', '#46f0f0',\n",
    "       '#f032e6', '#d2f53c', '#fabebe', '#008080', '#e6beff', '#aa6e28', '#fffac8',\n",
    "       '#800000', '#aaffc3', '#808000', '#ffd8b1', '#000080', '#808080', '#ffffff',\n",
    "       '#000000']\n",
    "plotter(0, 3, '% of total particles')\n",
    "plotter(3, 6, '% of total particles')\n",
    "plotter(6, 8, '% of total particles')\n",
    "plotter(8, 12, r'Diameter $(\\sigma)$')\n",
    "plotter(12, 13, r'Effective Area Fraction $(\\phi_{Eff})$')\n",
    "plotter(13, 15, 'Area')\n",
    "plotter(15, 17, 'Density')\n",
    "plotter(17, 18, 'Density')\n",
    "\n",
    "# # This is the way I was plotting it\n",
    "# for j in range(0, 3):\n",
    "#     plt.scatter(params['peA'], SS[headers[j]], label=headers[j])\n",
    "#     plt.legend()\n",
    "# plt.show()"
   ]
  },
  {
   "cell_type": "code",
   "execution_count": 14,
   "metadata": {},
   "outputs": [],
   "source": [
    "# Take in the steady-state diameter data... output the LJ force w/ HS epsilon\n",
    "diam_to_force = []\n",
    "eps_one = []\n",
    "for i in range(0, len(SS['sigALL'])):\n",
    "    diam_to_force.append(diamToForce(SS['sigALL'][i]))\n",
    "    eps_one.append(forceToEps(diam_to_force[i]))"
   ]
  },
  {
   "cell_type": "code",
   "execution_count": 33,
   "metadata": {},
   "outputs": [
    {
     "data": {
      "image/png": "[encoded data removed]",
      "text/plain": [
       "<Figure size 432x288 with 1 Axes>"
      ]
     },
     "metadata": {
      "needs_background": "light"
     },
     "output_type": "display_data"
    },
    {
     "name": "stdout",
     "output_type": "stream",
     "text": [
      "84.99983200000001\n"
     ]
    }
   ],
   "source": [
    "# Let's fix the data being plotted (just monodisperse)\n",
    "mono = [0]\n",
    "corDat = [1]\n",
    "for i in range(0, len(params['peA'])):\n",
    "    if params['xA'][i] % 100 == 0:\n",
    "        mono.append(params['peA'][i])\n",
    "        corDat.append(eps_one[i])\n",
    "\n",
    "expo = []\n",
    "lin1 = []\n",
    "lin2 = []\n",
    "lin3 = []\n",
    "lin4 = []\n",
    "lin5 = []\n",
    "refRange = np.arange(0, 500, 0.001)\n",
    "for i in range(0, len(refRange)):\n",
    "    expo.append(exponential(-1.47, -0.10, -0.002, refRange[i]))\n",
    "    lin1.append(linear(0.042, refRange[i], 1))\n",
    "    lin2.append(linear(0.084, refRange[i], 1))\n",
    "    lin3.append(linear(0.126, refRange[i], 1))\n",
    "    lin4.append(linear(0.147, refRange[i], 1))\n",
    "    lin5.append(linear(0.168, refRange[i], 1))\n",
    "\n",
    "plt.scatter(mono, corDat, c=col[8], label='Data')\n",
    "plt.plot(refRange, expo, c=col[9], label='Exponential')\n",
    "plt.plot(refRange, lin1, c=col[10], label='Cates')\n",
    "plt.plot(refRange, lin2, c=col[11], label='2 * Cates')\n",
    "plt.plot(refRange, lin3, c=col[12], label='3 * Cates')\n",
    "plt.plot(refRange, lin4, c=col[14], label='3.5 * Cates')\n",
    "plt.plot(refRange, lin5, c=col[15], label='4 * Cates')\n",
    "plt.xlabel('Activity')\n",
    "plt.ylabel('Epsilon')\n",
    "plt.legend()\n",
    "plt.title(r'$\\epsilon$ to give $\\sigma=1$')\n",
    "plt.show()\n",
    "\n",
    "print(Activity: {}, Epsilon: {}).format(lin5[-1])"
   ]
  },
  {
   "cell_type": "code",
   "execution_count": 16,
   "metadata": {},
   "outputs": [
    {
     "name": "stdout",
     "output_type": "stream",
     "text": [
      "Monodisperse Data:\n",
      "Activity: 0.0, Epsilon: 0.883442177859\n",
      "Activity: 100.0, Epsilon: 9.0382230056\n",
      "Activity: 150.0, Epsilon: 15.7785372804\n",
      "Activity: 200.0, Epsilon: 23.3741313591\n",
      "Activity: 250.0, Epsilon: 31.1422145771\n",
      "Activity: 300.0, Epsilon: 39.4415982026\n",
      "Activity: 350.0, Epsilon: 48.5240852561\n",
      "Activity: 400.0, Epsilon: 57.8448569696\n",
      "Activity: 450.0, Epsilon: 68.3155609045\n",
      "Activity: 500.0, Epsilon: 79.4759546829\n",
      "Activity: 50.0, Epsilon: 1.63697577855\n"
     ]
    }
   ],
   "source": [
    "print('Monodisperse Data:')\n",
    "for i in range(0, len(eps_one)):\n",
    "    # monodisperse\n",
    "    if params['xA'][i] % 100 == 0:\n",
    "        print('Activity: {}, Epsilon: {}').format(params['peA'][i], eps_one[i])\n",
    "# print('Monodisperse Data:')\n",
    "# for i in range(0, len(eps_one)):\n",
    "#     # monodisperse\n",
    "#     if params['xA'][i] % 100 == 0:\n",
    "#         print('{} \\t {}').format(params['peA'][i], eps_one[i])"
   ]
  },
  {
   "cell_type": "code",
   "execution_count": null,
   "metadata": {},
   "outputs": [],
   "source": []
  }
 ],
 "metadata": {
  "kernelspec": {
   "display_name": "Python 2",
   "language": "python",
   "name": "python2"
  },
  "language_info": {
   "codemirror_mode": {
    "name": "ipython",
    "version": 2
   },
   "file_extension": ".py",
   "mimetype": "text/x-python",
   "name": "python",
   "nbconvert_exporter": "python",
   "pygments_lexer": "ipython2",
   "version": "2.7.15"
  }
 },
 "nbformat": 4,
 "nbformat_minor": 2
}
