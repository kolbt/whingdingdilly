{
 "cells": [
  {
   "cell_type": "code",
   "execution_count": 1,
   "metadata": {},
   "outputs": [],
   "source": [
    "# Import that good good\n",
    "import sys\n",
    "import os\n",
    "sys.path.append('/Users/kolbt/Desktop/ipython/diam_files')\n",
    "import pandas as pd\n",
    "import matplotlib.pyplot as plt\n",
    "import numpy as np \n",
    "import math\n",
    "from IPython.display import display\n",
    "from collections import OrderedDict\n",
    "pd.options.display.max_rows = 2\n",
    "import matplotlib.colors as mc\n",
    "import colorsys"
   ]
  },
  {
   "cell_type": "code",
   "execution_count": 2,
   "metadata": {},
   "outputs": [],
   "source": [
    "# Define what functions you'll need here\n",
    "def getFromTxt(fname, first, last):\n",
    "    \"Takes a string, text before and after desired text, outs text between\"\n",
    "    start = fname.index( first ) + len( first )\n",
    "    end = fname.index( last, start )\n",
    "    myTxt = fname[start:end]\n",
    "    return float(myTxt)\n",
    "# Above function kindly provided by user \"cji\" on stackoverflow\n",
    "# https://stackoverflow.com/questions/3368969/find-string-between-two-substrings\n",
    "\n",
    "# Make sure data is sorted appropriately\n",
    "def sortArray(array, sort_var):\n",
    "    \"Takes an array and the column name to sort, sorts array \"\n",
    "    for i in range(0, len(array)):\n",
    "        for k in range(0, len(array[i])):\n",
    "            for j in range(0, len(array[i])):\n",
    "                # Out of order, swap them\n",
    "                if array[i].loc[j, sort_var] < array[i].loc[k, sort_var] and k < j:\n",
    "                    print(\"Sorting... \")\n",
    "                    tmp = array[i].iloc[j].copy()\n",
    "                    array[i].iloc[j] = array[i].iloc[k]\n",
    "                    array[i].iloc[k] = tmp\n",
    "                    \n",
    "def plotter(start, stop, ylab):\n",
    "    \"Plotting function so that I don't have to show this a zillion times\"\n",
    "    ind = 0\n",
    "    for j in range(start, stop):\n",
    "        for i in range(0, len(SS[headers[j]])):\n",
    "            # Mixture\n",
    "            if params['xA'][i] % 100 != 0:\n",
    "                plt.scatter(params['peA'][i], SS[headers[j]][i], c=col[ind], label=headers[j])\n",
    "            # Monodisperse, always same color\n",
    "            else:\n",
    "                # If it's zero ignore it\n",
    "                if SS[headers[j]][i] != 0:\n",
    "                    plt.scatter(params['peA'][i], SS[headers[j]][i], c=col[-1], label='Mono')\n",
    "        ind += 1\n",
    "    \n",
    "    handles, labels = plt.gca().get_legend_handles_labels()\n",
    "    by_label = OrderedDict(zip(labels, handles))\n",
    "    plt.legend(by_label.values(), by_label.keys())\n",
    "    plt.xlabel('Activity (Pe)')\n",
    "    plt.ylabel(ylab)\n",
    "    plt.show()\n",
    "    \n",
    "def diamToForce(r, eps=1.0):\n",
    "    \"Take diameter, output LJ-force\"\n",
    "    sigma = 1.0\n",
    "    F_LJ = 24.0 * eps * ((2 * (sigma**12) * (r**-13)) - ((sigma**6) * (r**-7)))\n",
    "    return F_LJ\n",
    "\n",
    "def forceToEps(force):\n",
    "    \"Take LJ-force and output epsilon to give diameter of 1\"\n",
    "    epsilon = force / 24.0\n",
    "    return epsilon\n",
    "\n",
    "# https://mycurvefit.com/\n",
    "def linear(a, x, b):\n",
    "    return (a*x)+b\n",
    "\n",
    "def powerLaw(a, x, b):\n",
    "    return a*(x**b)\n",
    "\n",
    "def exponential(a, b, c, x):\n",
    "    \"Exponential: a - (b/c) * (1 - (e**-cx))\"\n",
    "    return a - ((b/c)*(1-(math.exp(-c*x))))\n",
    "\n",
    "def plateau(a, x, b):\n",
    "    \"Plateau: a * x / (b + x)\"\n",
    "    return (a * x) / (b + x)\n",
    "\n",
    "def logarithmic(a, x, b):\n",
    "    \"Logarithmic: a * ln(x) + b\"\n",
    "    if x != 0:\n",
    "        return (a * math.log(x)) + b\n",
    "    else:\n",
    "        return 0\n",
    "    \n",
    "# https://stackoverflow.com/questions/37765197/darken-or-lighten-a-color-in-matplotlib\n",
    "def colorShade(color, amount=0.5):\n",
    "    \"Gives multiple shades of a base color\"\n",
    "    try:\n",
    "        c = mc.cnames[color]\n",
    "    except:\n",
    "        c = color\n",
    "    c = colorsys.rgb_to_hls(*mc.to_rgb(c))\n",
    "    return colorsys.hls_to_rgb(c[0], 1 - amount * (1 - c[1]), c[2])"
   ]
  },
  {
   "cell_type": "code",
   "execution_count": 3,
   "metadata": {},
   "outputs": [],
   "source": [
    "# Get the data files\n",
    "os.chdir('/Users/kolbt/Desktop/ipython/compare_mono')\n",
    "eps1Files = os.listdir('eps1')\n",
    "eps1 = []\n",
    "eps20Files = os.listdir('Cates')\n",
    "eps20 = []\n",
    "lStpFiles = os.listdir('linearSteep')\n",
    "lStp = []\n",
    "platFiles = os.listdir('plateau')\n",
    "plat = []\n",
    "\n",
    "# Using the absolute path means I can go to whatever directory I want\n",
    "os.chdir('/Users/kolbt/Desktop/ipython/compare_mono/eps1')\n",
    "for i in range(0, len(eps1Files)):\n",
    "    df = pd.read_csv(eps1Files[i], sep='\\s+', header=0)\n",
    "    eps1.append(df)\n",
    "    \n",
    "os.chdir('/Users/kolbt/Desktop/ipython/compare_mono/Cates')\n",
    "for i in range(0, len(eps20Files)):\n",
    "    df = pd.read_csv(eps20Files[i], sep='\\s+', header=0)\n",
    "    eps20.append(df)\n",
    "    \n",
    "os.chdir('/Users/kolbt/Desktop/ipython/compare_mono/linearSteep')\n",
    "for i in range(0, len(lStpFiles)):\n",
    "    df = pd.read_csv(lStpFiles[i], sep='\\s+', header=0)\n",
    "    lStp.append(df)\n",
    "    \n",
    "os.chdir('/Users/kolbt/Desktop/ipython/compare_mono/plateau')\n",
    "for i in range(0, len(platFiles)):\n",
    "    df = pd.read_csv(platFiles[i], sep='\\s+', header=0)\n",
    "    plat.append(df)\n",
    "    \n",
    "os.chdir('/Users/kolbt/Desktop/ipython/compare_mono')"
   ]
  },
  {
   "cell_type": "code",
   "execution_count": 4,
   "metadata": {},
   "outputs": [],
   "source": [
    "# Make sure all data is in correct timestep order\n",
    "# sortArray(eps1, 'Timestep')\n",
    "# sortArray(eps20, 'Timestep')\n",
    "# display(eps1[0])"
   ]
  },
  {
   "cell_type": "code",
   "execution_count": 6,
   "metadata": {},
   "outputs": [
    {
     "name": "stdout",
     "output_type": "stream",
     "text": [
      "diam_pa0_pb0_xa100_ep1.txt\n",
      "diam_pa100_pb0_xa100_ep18.txt\n",
      "diam_pa150_pb0_xa100_ep26.txt\n",
      "diam_pa200_pb0_xa100_ep34.txt\n",
      "diam_pa250_pb0_xa100_ep42.txt\n",
      "diam_pa300_pb0_xa100_ep50.txt\n",
      "diam_pa350_pb0_xa100_ep58.txt\n",
      "diam_pa400_pb0_xa100_ep66.txt\n",
      "diam_pa450_pb0_xa100_ep74.txt\n",
      "diam_pa500_pb0_xa100_ep82.txt\n"
     ]
    }
   ],
   "source": [
    "# Make an additional frame that gives total number of particles, and simulation parameters\n",
    "eps1Params = []\n",
    "eps20Params = []\n",
    "platParams = []\n",
    "lStpParams = []\n",
    "for i in range(0, len(eps1Files)):\n",
    "    # First epsilon\n",
    "    partAll = eps1[i]['Gas_tot'][0]\n",
    "    partA = eps1[i]['Gas_A'][0]\n",
    "    partB = eps1[i]['Gas_B'][0]\n",
    "    pa = getFromTxt(eps1Files[i], \"pa\", \"_pb\")\n",
    "    pb = getFromTxt(eps1Files[i], \"pb\", \"_xa\")\n",
    "    xa = getFromTxt(eps1Files[i], \"xa\", \".txt\")\n",
    "    try:\n",
    "        prat = float(pa)/float(pb)\n",
    "    except:\n",
    "        prat = 0.0\n",
    "    eps1Params.append((partAll, partA, partB, pa, pb, xa, prat))\n",
    "    \n",
    "    # Second epsilon\n",
    "    partAll = eps20[i]['Gas_tot'][0]\n",
    "    partA = eps20[i]['Gas_A'][0]\n",
    "    partB = eps20[i]['Gas_B'][0]\n",
    "    pa = getFromTxt(eps20Files[i], \"pa\", \"_pb\")\n",
    "    pb = getFromTxt(eps20Files[i], \"pb\", \"_xa\")\n",
    "    xa = getFromTxt(eps20Files[i], \"xa\", \".txt\")\n",
    "    try:\n",
    "        prat = float(pa)/float(pb)\n",
    "    except:\n",
    "        prat = 0.0\n",
    "    eps20Params.append((partAll, partA, partB, pa, pb, xa, prat))\n",
    "\n",
    "    # Linear steep\n",
    "    partAll = lStp[i]['Gas_tot'][0]\n",
    "    partA = lStp[i]['Gas_A'][0]\n",
    "    partB = lStp[i]['Gas_B'][0]\n",
    "    pa = getFromTxt(lStpFiles[i], \"pa\", \"_pb\")\n",
    "    pb = getFromTxt(lStpFiles[i], \"pb\", \"_xa\")\n",
    "    xa = getFromTxt(lStpFiles[i], \"xa\", \"_ep\")\n",
    "    try:\n",
    "        prat = float(pa)/float(pb)\n",
    "    except:\n",
    "        prat = 0.0\n",
    "    lStpParams.append((partAll, partA, partB, pa, pb, xa, prat))\n",
    "    \n",
    "    #Plateau\n",
    "    partAll = plat[i]['Gas_tot'][0]\n",
    "    partA = plat[i]['Gas_A'][0]\n",
    "    partB = plat[i]['Gas_B'][0]\n",
    "    pa = getFromTxt(platFiles[i], \"pa\", \"_pb\")\n",
    "    pb = getFromTxt(platFiles[i], \"pb\", \"_xa\")\n",
    "    xa = getFromTxt(platFiles[i], \"xa\", \"_ep\")\n",
    "    try:\n",
    "        prat = float(pa)/float(pb)\n",
    "    except:\n",
    "        prat = 0.0\n",
    "    platParams.append((partAll, partA, partB, pa, pb, xa, prat))\n",
    "    \n",
    "paramsEps1 = pd.DataFrame(eps1Params, columns=['partAll', 'partA', 'partB', 'peA', 'peB', 'xA', 'peR'])\n",
    "paramsEps20 = pd.DataFrame(eps20Params, columns=['partAll', 'partA', 'partB', 'peA', 'peB', 'xA', 'peR'])\n",
    "paramsPlat = pd.DataFrame(platParams, columns=['partAll', 'partA', 'partB', 'peA', 'peB', 'xA', 'peR'])\n",
    "paramsLStp = pd.DataFrame(lStpParams, columns=['partAll', 'partA', 'partB', 'peA', 'peB', 'xA', 'peR'])"
   ]
  },
  {
   "cell_type": "code",
   "execution_count": 7,
   "metadata": {},
   "outputs": [],
   "source": [
    "# Make list of steady state column headers\n",
    "headers = list(eps1[0])\n",
    "headers.remove('Timestep')\n",
    "eps1SS = pd.DataFrame(columns=headers)\n",
    "eps20SS = pd.DataFrame(columns=headers)\n",
    "platSS = pd.DataFrame(columns=headers)\n",
    "lStpSS = pd.DataFrame(columns=headers)\n",
    "for i in range(0, len(eps1Files)):\n",
    "    eps1SS.loc[i] = [0] * len(headers)\n",
    "    eps20SS.loc[i] = [0] * len(headers)\n",
    "    platSS.loc[i] = [0] * len(headers)\n",
    "    lStpSS.loc[i] = [0] * len(headers)\n",
    "\n",
    "# Make dataframe of steady-state data\n",
    "for i in range(0, len(eps1Files)):\n",
    "    # Loop through each column (aside from tstep column)\n",
    "    for j in range(1, len(headers) + 1):\n",
    "        # Compute mean of last 100 entries in jth column of ith file\n",
    "        avg1 = np.mean(eps1[i].iloc[-100:-1,j])\n",
    "        avg2 = np.mean(eps20[i].iloc[-100:-1,j])\n",
    "        avg3 = np.mean(plat[i].iloc[-100:-1,j])\n",
    "        avg4 = np.mean(lStp[i].iloc[-100:-1,j])\n",
    "        eps1SS[headers[j-1]][i] = avg1\n",
    "        eps20SS[headers[j-1]][i] = avg2\n",
    "        platSS[headers[j-1]][i] = avg3\n",
    "        lStpSS[headers[j-1]][i] = avg4\n",
    "        \n",
    "# Normalize by number of particles\n",
    "eps1SS['Gas_tot'][:] /= paramsEps1['partAll'][:]\n",
    "eps1SS['Dense_tot'][:] /= paramsEps1['partAll'][:]\n",
    "eps1SS['Lg_clust'][:] /= paramsEps1['partAll'][:]\n",
    "eps1SS['MCS'][:] /= paramsEps1['partAll'][:]\n",
    "\n",
    "eps20SS['Gas_tot'][:] /= paramsEps20['partAll'][:]\n",
    "eps20SS['Dense_tot'][:] /= paramsEps20['partAll'][:]\n",
    "eps20SS['Lg_clust'][:] /= paramsEps20['partAll'][:]\n",
    "eps20SS['MCS'][:] /= paramsEps20['partAll'][:]\n",
    "\n",
    "lStpSS['Gas_tot'][:] /= paramsLStp['partAll'][:]\n",
    "lStpSS['Dense_tot'][:] /= paramsLStp['partAll'][:]\n",
    "lStpSS['Lg_clust'][:] /= paramsLStp['partAll'][:]\n",
    "lStpSS['MCS'][:] /= paramsLStp['partAll'][:]\n",
    "\n",
    "platSS['Gas_tot'][:] /= paramsPlat['partAll'][:]\n",
    "platSS['Dense_tot'][:] /= paramsPlat['partAll'][:]\n",
    "platSS['Lg_clust'][:] /= paramsPlat['partAll'][:]\n",
    "platSS['MCS'][:] /= paramsPlat['partAll'][:]"
   ]
  },
  {
   "cell_type": "code",
   "execution_count": 7,
   "metadata": {},
   "outputs": [],
   "source": [
    "# Take in the steady-state diameter data... output the LJ force w/ HS epsilon\n",
    "diam1_to_force = []\n",
    "eps1_to_one = []\n",
    "diam20_to_force = []\n",
    "eps20_to_one = []\n",
    "for i in range(0, len(eps1SS['sigALL'])):\n",
    "    diam1_to_force.append(diamToForce(eps1SS['sigALL'][i], 1.0))\n",
    "    diam20_to_force.append(diamToForce(eps20SS['sigALL'][i], 20.0))\n",
    "    eps1_to_one.append(forceToEps(diam1_to_force[i]))\n",
    "    eps20_to_one.append(forceToEps(diam20_to_force[i]))    "
   ]
  },
  {
   "cell_type": "code",
   "execution_count": 15,
   "metadata": {},
   "outputs": [
    {
     "data": {
      "image/png": "[encoded data removed]",
      "text/plain": [
       "<Figure size 432x288 with 1 Axes>"
      ]
     },
     "metadata": {
      "needs_background": "light"
     },
     "output_type": "display_data"
    },
    {
     "data": {
      "image/png": "[encoded data removed]",
      "text/plain": [
       "<Figure size 432x288 with 1 Axes>"
      ]
     },
     "metadata": {
      "needs_background": "light"
     },
     "output_type": "display_data"
    },
    {
     "data": {
      "image/png": "[encoded data removed]",
      "text/plain": [
       "<Figure size 432x288 with 1 Axes>"
      ]
     },
     "metadata": {
      "needs_background": "light"
     },
     "output_type": "display_data"
    }
   ],
   "source": [
    "plt.scatter(paramsEps1['peA'], eps1SS['sigALL'], label=r'$\\epsilon=1$')\n",
    "plt.scatter(paramsEps20['peA'], eps20SS['sigALL'], label=r'$\\epsilon=20$')\n",
    "plt.xlabel('Activity')\n",
    "plt.ylabel('Diameter')\n",
    "plt.legend()\n",
    "plt.title(r'Equilibrium diameter of particles under different LJ potential')\n",
    "plt.show()\n",
    "\n",
    "plt.scatter(paramsEps1['peA'], diam1_to_force, label=r'$\\epsilon=1$')\n",
    "plt.scatter(paramsEps20['peA'], diam20_to_force, label=r'$\\epsilon=20$')\n",
    "plt.xlabel('Activity')\n",
    "plt.ylabel('Force')\n",
    "plt.legend()\n",
    "plt.title(r'Force experienced by soft and hard particles')\n",
    "plt.show()\n",
    "\n",
    "peRange = np.arange(50, 500, 0.01)\n",
    "line = []\n",
    "for i in xrange(len(peRange)):\n",
    "    line.append(linear(0.16, peRange[i], 1.0))\n",
    "\n",
    "plt.scatter(paramsEps1['peA'], eps1_to_one, label=r'$\\epsilon=1$')\n",
    "plt.scatter(paramsEps20['peA'], eps20_to_one, label=r'$\\epsilon=20$')\n",
    "plt.plot(peRange, line, label=r'$\\epsilon$ to $F_{A}$ dependence')\n",
    "plt.xlabel('Activity')\n",
    "plt.ylabel(r'$\\epsilon$')\n",
    "plt.legend()\n",
    "plt.title(r'$\\epsilon$ to give $\\sigma=1$')\n",
    "plt.show()"
   ]
  },
  {
   "cell_type": "code",
   "execution_count": 18,
   "metadata": {},
   "outputs": [
    {
     "name": "stdout",
     "output_type": "stream",
     "text": [
      "Activity: 499.99, Epsilon: 80.9984\n"
     ]
    }
   ],
   "source": [
    "print(\"Activity: {}, Epsilon: {}\").format(peRange[-1], line[-1])"
   ]
  },
  {
   "cell_type": "code",
   "execution_count": 11,
   "metadata": {},
   "outputs": [
    {
     "data": {
      "image/png": "[encoded data removed]",
      "text/plain": [
       "<Figure size 432x288 with 1 Axes>"
      ]
     },
     "metadata": {
      "needs_background": "light"
     },
     "output_type": "display_data"
    }
   ],
   "source": [
    "plt.scatter(paramsLStp['peA'], lStpSS['sigALL'], label=r'Steep Linear')\n",
    "plt.scatter(paramsPlat['peA'], platSS['sigALL'], label=r'Plateau')\n",
    "# plt.plot(peRange, line, label=r'$\\epsilon$ to $F_{A}$ dependence')\n",
    "plt.xlabel('Activity')\n",
    "plt.ylabel(r'$\\sigma$')\n",
    "plt.legend(loc=3)\n",
    "plt.title(r'Diameter Data')\n",
    "plt.show()"
   ]
  },
  {
   "cell_type": "code",
   "execution_count": null,
   "metadata": {},
   "outputs": [],
   "source": []
  }
 ],
 "metadata": {
  "kernelspec": {
   "display_name": "Python 2",
   "language": "python",
   "name": "python2"
  },
  "language_info": {
   "codemirror_mode": {
    "name": "ipython",
    "version": 2
   },
   "file_extension": ".py",
   "mimetype": "text/x-python",
   "name": "python",
   "nbconvert_exporter": "python",
   "pygments_lexer": "ipython2",
   "version": "2.7.15"
  }
 },
 "nbformat": 4,
 "nbformat_minor": 2
}
